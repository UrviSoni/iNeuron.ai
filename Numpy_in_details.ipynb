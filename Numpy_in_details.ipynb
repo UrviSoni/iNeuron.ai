{
  "nbformat": 4,
  "nbformat_minor": 0,
  "metadata": {
    "kernelspec": {
      "display_name": "Python 3",
      "language": "python",
      "name": "python3"
    },
    "language_info": {
      "codemirror_mode": {
        "name": "ipython",
        "version": 3
      },
      "file_extension": ".py",
      "mimetype": "text/x-python",
      "name": "python",
      "nbconvert_exporter": "python",
      "pygments_lexer": "ipython3",
      "version": "3.7.1"
    },
    "colab": {
      "name": "Numpy in details.ipynb",
      "provenance": [],
      "include_colab_link": true
    },
    "accelerator": "GPU"
  },
  "cells": [
    {
      "cell_type": "markdown",
      "metadata": {
        "id": "view-in-github",
        "colab_type": "text"
      },
      "source": [
        "<a href=\"https://colab.research.google.com/github/UrviSoni/iNeuron.ai/blob/master/Numpy_in_details.ipynb\" target=\"_parent\"><img src=\"https://colab.research.google.com/assets/colab-badge.svg\" alt=\"Open In Colab\"/></a>"
      ]
    },
    {
      "cell_type": "markdown",
      "metadata": {
        "id": "uov-NxTMbh3G",
        "colab_type": "text"
      },
      "source": [
        "# Numpy Array"
      ]
    },
    {
      "cell_type": "code",
      "metadata": {
        "id": "oqZDbwz1bh3H",
        "colab_type": "code",
        "colab": {
          "base_uri": "https://localhost:8080/",
          "height": 34
        },
        "outputId": "026b4d43-09f3-4f00-ab51-ca7c1cbf998e"
      },
      "source": [
        "import numpy as np\n",
        "type(np.array([\"vbhvh\", 2, 3]))"
      ],
      "execution_count": 1,
      "outputs": [
        {
          "output_type": "execute_result",
          "data": {
            "text/plain": [
              "numpy.ndarray"
            ]
          },
          "metadata": {
            "tags": []
          },
          "execution_count": 1
        }
      ]
    },
    {
      "cell_type": "code",
      "metadata": {
        "id": "4fh8kbdScHZk",
        "colab_type": "code",
        "colab": {
          "base_uri": "https://localhost:8080/",
          "height": 34
        },
        "outputId": "3e6ccfd4-ebf5-4d6e-d117-c4567df12946"
      },
      "source": [
        "l = [4,5,6,7]\n",
        "type(l)"
      ],
      "execution_count": 2,
      "outputs": [
        {
          "output_type": "execute_result",
          "data": {
            "text/plain": [
              "list"
            ]
          },
          "metadata": {
            "tags": []
          },
          "execution_count": 2
        }
      ]
    },
    {
      "cell_type": "code",
      "metadata": {
        "id": "sZ93G8bCcW4Y",
        "colab_type": "code",
        "colab": {
          "base_uri": "https://localhost:8080/",
          "height": 34
        },
        "outputId": "1488c2f4-52b3-47d7-cca7-588f9ab047e6"
      },
      "source": [
        "np.array(l)"
      ],
      "execution_count": 3,
      "outputs": [
        {
          "output_type": "execute_result",
          "data": {
            "text/plain": [
              "array([4, 5, 6, 7])"
            ]
          },
          "metadata": {
            "tags": []
          },
          "execution_count": 3
        }
      ]
    },
    {
      "cell_type": "code",
      "metadata": {
        "id": "k5iQRZPycXAr",
        "colab_type": "code",
        "colab": {
          "base_uri": "https://localhost:8080/",
          "height": 34
        },
        "outputId": "e5573ada-1c62-42b3-c0ac-be8d076433c4"
      },
      "source": [
        "type(np.array(l))"
      ],
      "execution_count": 4,
      "outputs": [
        {
          "output_type": "execute_result",
          "data": {
            "text/plain": [
              "numpy.ndarray"
            ]
          },
          "metadata": {
            "tags": []
          },
          "execution_count": 4
        }
      ]
    },
    {
      "cell_type": "code",
      "metadata": {
        "id": "zplkwn3vcXHg",
        "colab_type": "code",
        "colab": {
          "base_uri": "https://localhost:8080/",
          "height": 34
        },
        "outputId": "159dc515-fb64-4c69-bd7b-a722bde279fe"
      },
      "source": [
        "np.array([3,4,5,6,\"adbhsf\",6.4,True]) #U21 is variance of a string"
      ],
      "execution_count": 5,
      "outputs": [
        {
          "output_type": "execute_result",
          "data": {
            "text/plain": [
              "array(['3', '4', '5', '6', 'adbhsf', '6.4', 'True'], dtype='<U21')"
            ]
          },
          "metadata": {
            "tags": []
          },
          "execution_count": 5
        }
      ]
    },
    {
      "cell_type": "code",
      "metadata": {
        "id": "ut2kkE37bh3O",
        "colab_type": "code",
        "colab": {}
      },
      "source": [
        "#Upcasting:"
      ],
      "execution_count": null,
      "outputs": []
    },
    {
      "cell_type": "code",
      "metadata": {
        "id": "iHRwAaRwbh3S",
        "colab_type": "code",
        "colab": {
          "base_uri": "https://localhost:8080/",
          "height": 34
        },
        "outputId": "009b33b2-443d-4dd7-b7a3-dada4d34590e"
      },
      "source": [
        "np.array([1, 2, 3.0])"
      ],
      "execution_count": 6,
      "outputs": [
        {
          "output_type": "execute_result",
          "data": {
            "text/plain": [
              "array([1., 2., 3.])"
            ]
          },
          "metadata": {
            "tags": []
          },
          "execution_count": 6
        }
      ]
    },
    {
      "cell_type": "code",
      "metadata": {
        "id": "Vl90dEK9cxsf",
        "colab_type": "code",
        "colab": {
          "base_uri": "https://localhost:8080/",
          "height": 34
        },
        "outputId": "8a415742-ba9c-4f19-baae-c1cfcdfb9b91"
      },
      "source": [
        "n = np.array([1, 2, 3.0])\n",
        "n.shape"
      ],
      "execution_count": 10,
      "outputs": [
        {
          "output_type": "execute_result",
          "data": {
            "text/plain": [
              "(3,)"
            ]
          },
          "metadata": {
            "tags": []
          },
          "execution_count": 10
        }
      ]
    },
    {
      "cell_type": "code",
      "metadata": {
        "id": "1Mz4OuHOcxv2",
        "colab_type": "code",
        "colab": {
          "base_uri": "https://localhost:8080/",
          "height": 34
        },
        "outputId": "49ce4477-24c5-4306-aa2f-2eb3416a062a"
      },
      "source": [
        "n.ndim"
      ],
      "execution_count": 12,
      "outputs": [
        {
          "output_type": "execute_result",
          "data": {
            "text/plain": [
              "1"
            ]
          },
          "metadata": {
            "tags": []
          },
          "execution_count": 12
        }
      ]
    },
    {
      "cell_type": "code",
      "metadata": {
        "id": "nU0IVlSsbh3W",
        "colab_type": "code",
        "colab": {}
      },
      "source": [
        "#two dimensions"
      ],
      "execution_count": null,
      "outputs": []
    },
    {
      "cell_type": "code",
      "metadata": {
        "id": "dykF4ibCbh3a",
        "colab_type": "code",
        "colab": {
          "base_uri": "https://localhost:8080/",
          "height": 51
        },
        "outputId": "ef13a083-c88d-44c3-8918-d54d43c3c330"
      },
      "source": [
        " np.array([[1, 2], [3, 4]])"
      ],
      "execution_count": 13,
      "outputs": [
        {
          "output_type": "execute_result",
          "data": {
            "text/plain": [
              "array([[1, 2],\n",
              "       [3, 4]])"
            ]
          },
          "metadata": {
            "tags": []
          },
          "execution_count": 13
        }
      ]
    },
    {
      "cell_type": "code",
      "metadata": {
        "id": "N0pFvpIybh3d",
        "colab_type": "code",
        "colab": {}
      },
      "source": [
        "#Minimum dimensions 2:"
      ],
      "execution_count": null,
      "outputs": []
    },
    {
      "cell_type": "code",
      "metadata": {
        "id": "9pVeSyOLbh3h",
        "colab_type": "code",
        "colab": {
          "base_uri": "https://localhost:8080/",
          "height": 34
        },
        "outputId": "87b890d2-9e14-46f9-c9b9-3dc8578df3bd"
      },
      "source": [
        "np.array([1, 2, 3], ndmin=5)"
      ],
      "execution_count": 14,
      "outputs": [
        {
          "output_type": "execute_result",
          "data": {
            "text/plain": [
              "array([[[[[1, 2, 3]]]]])"
            ]
          },
          "metadata": {
            "tags": []
          },
          "execution_count": 14
        }
      ]
    },
    {
      "cell_type": "code",
      "metadata": {
        "id": "dr2VUObFbh3l",
        "colab_type": "code",
        "colab": {}
      },
      "source": [
        "#dtype"
      ],
      "execution_count": null,
      "outputs": []
    },
    {
      "cell_type": "code",
      "metadata": {
        "id": "z80dPLC_bh3p",
        "colab_type": "code",
        "colab": {
          "base_uri": "https://localhost:8080/",
          "height": 34
        },
        "outputId": "94dfe2b6-7d7b-41e3-cf62-437e20252366"
      },
      "source": [
        " np.array([1, 2, 3], dtype=complex)"
      ],
      "execution_count": 15,
      "outputs": [
        {
          "output_type": "execute_result",
          "data": {
            "text/plain": [
              "array([1.+0.j, 2.+0.j, 3.+0.j])"
            ]
          },
          "metadata": {
            "tags": []
          },
          "execution_count": 15
        }
      ]
    },
    {
      "cell_type": "code",
      "metadata": {
        "id": "2dgUNqqWbh3t",
        "colab_type": "code",
        "colab": {}
      },
      "source": [
        "#Data-type consisting of more than one element:"
      ],
      "execution_count": null,
      "outputs": []
    },
    {
      "cell_type": "code",
      "metadata": {
        "id": "WThJCEnMhO3Z",
        "colab_type": "code",
        "colab": {
          "base_uri": "https://localhost:8080/",
          "height": 34
        },
        "outputId": "a437c473-8d39-4dee-a69b-f212bd9fd0e1"
      },
      "source": [
        "np.array([3,4,5,6])"
      ],
      "execution_count": 28,
      "outputs": [
        {
          "output_type": "execute_result",
          "data": {
            "text/plain": [
              "array([3, 4, 5, 6])"
            ]
          },
          "metadata": {
            "tags": []
          },
          "execution_count": 28
        }
      ]
    },
    {
      "cell_type": "code",
      "metadata": {
        "id": "6Vrx2IY6hO7s",
        "colab_type": "code",
        "colab": {
          "base_uri": "https://localhost:8080/",
          "height": 34
        },
        "outputId": "060395c6-2d21-47af-932f-def53764a806"
      },
      "source": [
        "np.array([3,4,5,6])[0]"
      ],
      "execution_count": 29,
      "outputs": [
        {
          "output_type": "execute_result",
          "data": {
            "text/plain": [
              "3"
            ]
          },
          "metadata": {
            "tags": []
          },
          "execution_count": 29
        }
      ]
    },
    {
      "cell_type": "code",
      "metadata": {
        "id": "hHZJf0-JhPAO",
        "colab_type": "code",
        "colab": {
          "base_uri": "https://localhost:8080/",
          "height": 34
        },
        "outputId": "10210173-cfd6-47bb-8ad1-7dde42565a9c"
      },
      "source": [
        "type(np.array([3,4,5,6])[0])"
      ],
      "execution_count": 31,
      "outputs": [
        {
          "output_type": "execute_result",
          "data": {
            "text/plain": [
              "numpy.int64"
            ]
          },
          "metadata": {
            "tags": []
          },
          "execution_count": 31
        }
      ]
    },
    {
      "cell_type": "code",
      "metadata": {
        "id": "dDpW1Y8bhm2u",
        "colab_type": "code",
        "colab": {
          "base_uri": "https://localhost:8080/",
          "height": 34
        },
        "outputId": "66392f86-c8f4-49b8-fc49-32417cd60814"
      },
      "source": [
        "type(np.array([3,4,5,6],dtype=np.int8))"
      ],
      "execution_count": 33,
      "outputs": [
        {
          "output_type": "execute_result",
          "data": {
            "text/plain": [
              "numpy.ndarray"
            ]
          },
          "metadata": {
            "tags": []
          },
          "execution_count": 33
        }
      ]
    },
    {
      "cell_type": "code",
      "metadata": {
        "id": "sb4A6QJVhm_K",
        "colab_type": "code",
        "colab": {
          "base_uri": "https://localhost:8080/",
          "height": 34
        },
        "outputId": "e590448a-3742-4ed7-c6d9-198563bc959e"
      },
      "source": [
        "type(np.array([3,4,5,6],dtype=np.int8)[0])"
      ],
      "execution_count": 35,
      "outputs": [
        {
          "output_type": "execute_result",
          "data": {
            "text/plain": [
              "numpy.int8"
            ]
          },
          "metadata": {
            "tags": []
          },
          "execution_count": 35
        }
      ]
    },
    {
      "cell_type": "code",
      "metadata": {
        "id": "jIRN90SVhnDW",
        "colab_type": "code",
        "colab": {
          "base_uri": "https://localhost:8080/",
          "height": 34
        },
        "outputId": "c86b4fe3-b5a6-447d-ac72-a07af56f38ed"
      },
      "source": [
        "type(np.array([3,4,5,6],dtype=np.float64)[0])"
      ],
      "execution_count": 36,
      "outputs": [
        {
          "output_type": "execute_result",
          "data": {
            "text/plain": [
              "numpy.float64"
            ]
          },
          "metadata": {
            "tags": []
          },
          "execution_count": 36
        }
      ]
    },
    {
      "cell_type": "code",
      "metadata": {
        "id": "3FYDhEXqbh3w",
        "colab_type": "code",
        "colab": {
          "base_uri": "https://localhost:8080/",
          "height": 34
        },
        "outputId": "9d9853f1-2b07-419c-8deb-19e7aef81fea"
      },
      "source": [
        "x = np.array([(1,2),(3,4)],dtype=[('a','<i2'),('b','<i8')]) # Tuples are immutable datatype \n",
        "x # i2 is for 16 bit i4 is for 32 bit i8 is for 64 bit"
      ],
      "execution_count": 16,
      "outputs": [
        {
          "output_type": "execute_result",
          "data": {
            "text/plain": [
              "array([(1, 2), (3, 4)], dtype=[('a', '<i2'), ('b', '<i8')])"
            ]
          },
          "metadata": {
            "tags": []
          },
          "execution_count": 16
        }
      ]
    },
    {
      "cell_type": "code",
      "metadata": {
        "id": "uE3HeuzdcxyQ",
        "colab_type": "code",
        "colab": {
          "base_uri": "https://localhost:8080/",
          "height": 34
        },
        "outputId": "8ae8ac0a-5d65-47b0-ce41-ccd043dd84ae"
      },
      "source": [
        "x[0]"
      ],
      "execution_count": 17,
      "outputs": [
        {
          "output_type": "execute_result",
          "data": {
            "text/plain": [
              "(1, 2)"
            ]
          },
          "metadata": {
            "tags": []
          },
          "execution_count": 17
        }
      ]
    },
    {
      "cell_type": "code",
      "metadata": {
        "id": "FyvIHE1bgBLB",
        "colab_type": "code",
        "colab": {
          "base_uri": "https://localhost:8080/",
          "height": 34
        },
        "outputId": "3986c4db-3700-4527-ab8c-f25a78c70f27"
      },
      "source": [
        "x[0][0]"
      ],
      "execution_count": 18,
      "outputs": [
        {
          "output_type": "execute_result",
          "data": {
            "text/plain": [
              "1"
            ]
          },
          "metadata": {
            "tags": []
          },
          "execution_count": 18
        }
      ]
    },
    {
      "cell_type": "code",
      "metadata": {
        "id": "ndE8x4kBgBX7",
        "colab_type": "code",
        "colab": {
          "base_uri": "https://localhost:8080/",
          "height": 34
        },
        "outputId": "e89325ce-5f8f-4626-e3a4-170776b4382f"
      },
      "source": [
        "type(x[0][0])"
      ],
      "execution_count": 19,
      "outputs": [
        {
          "output_type": "execute_result",
          "data": {
            "text/plain": [
              "numpy.int16"
            ]
          },
          "metadata": {
            "tags": []
          },
          "execution_count": 19
        }
      ]
    },
    {
      "cell_type": "code",
      "metadata": {
        "id": "LQ-t-vh0gXcx",
        "colab_type": "code",
        "colab": {
          "base_uri": "https://localhost:8080/",
          "height": 34
        },
        "outputId": "3eda12cc-8c57-4bdc-b84b-fa109997c099"
      },
      "source": [
        "x[0][1]"
      ],
      "execution_count": 20,
      "outputs": [
        {
          "output_type": "execute_result",
          "data": {
            "text/plain": [
              "2"
            ]
          },
          "metadata": {
            "tags": []
          },
          "execution_count": 20
        }
      ]
    },
    {
      "cell_type": "code",
      "metadata": {
        "id": "6FiDdeWHgXj9",
        "colab_type": "code",
        "colab": {
          "base_uri": "https://localhost:8080/",
          "height": 34
        },
        "outputId": "0f04cec1-0583-4c30-a60f-1eae518b1d48"
      },
      "source": [
        "type(x[0][1])"
      ],
      "execution_count": 21,
      "outputs": [
        {
          "output_type": "execute_result",
          "data": {
            "text/plain": [
              "numpy.int64"
            ]
          },
          "metadata": {
            "tags": []
          },
          "execution_count": 21
        }
      ]
    },
    {
      "cell_type": "code",
      "metadata": {
        "id": "Eb2hm-iIgXpq",
        "colab_type": "code",
        "colab": {
          "base_uri": "https://localhost:8080/",
          "height": 34
        },
        "outputId": "989cc8a7-f9b1-4c90-e1ca-da8ed1a1b7c2"
      },
      "source": [
        "x[1][0]"
      ],
      "execution_count": 22,
      "outputs": [
        {
          "output_type": "execute_result",
          "data": {
            "text/plain": [
              "3"
            ]
          },
          "metadata": {
            "tags": []
          },
          "execution_count": 22
        }
      ]
    },
    {
      "cell_type": "code",
      "metadata": {
        "id": "S14o5bsfgl4O",
        "colab_type": "code",
        "colab": {
          "base_uri": "https://localhost:8080/",
          "height": 34
        },
        "outputId": "981c7f34-482b-49c9-8f63-cebf7464771c"
      },
      "source": [
        "type(x[1][0])"
      ],
      "execution_count": 23,
      "outputs": [
        {
          "output_type": "execute_result",
          "data": {
            "text/plain": [
              "numpy.int16"
            ]
          },
          "metadata": {
            "tags": []
          },
          "execution_count": 23
        }
      ]
    },
    {
      "cell_type": "code",
      "metadata": {
        "id": "ETZDlSnZgmB0",
        "colab_type": "code",
        "colab": {
          "base_uri": "https://localhost:8080/",
          "height": 34
        },
        "outputId": "91228468-7b6e-4832-bd9b-a2730b138809"
      },
      "source": [
        "x[1][1]"
      ],
      "execution_count": 24,
      "outputs": [
        {
          "output_type": "execute_result",
          "data": {
            "text/plain": [
              "4"
            ]
          },
          "metadata": {
            "tags": []
          },
          "execution_count": 24
        }
      ]
    },
    {
      "cell_type": "code",
      "metadata": {
        "id": "uZsza4pNg4NN",
        "colab_type": "code",
        "colab": {
          "base_uri": "https://localhost:8080/",
          "height": 34
        },
        "outputId": "6c3616a2-0106-4908-85e6-5ffe60e456fa"
      },
      "source": [
        "type(x[1][1])"
      ],
      "execution_count": 25,
      "outputs": [
        {
          "output_type": "execute_result",
          "data": {
            "text/plain": [
              "numpy.int64"
            ]
          },
          "metadata": {
            "tags": []
          },
          "execution_count": 25
        }
      ]
    },
    {
      "cell_type": "code",
      "metadata": {
        "id": "3B4DbyLqbh3z",
        "colab_type": "code",
        "colab": {
          "base_uri": "https://localhost:8080/",
          "height": 34
        },
        "outputId": "f748a768-d7c1-4742-edad-20ddf604967a"
      },
      "source": [
        "type(x[1][0])"
      ],
      "execution_count": 26,
      "outputs": [
        {
          "output_type": "execute_result",
          "data": {
            "text/plain": [
              "numpy.int16"
            ]
          },
          "metadata": {
            "tags": []
          },
          "execution_count": 26
        }
      ]
    },
    {
      "cell_type": "code",
      "metadata": {
        "id": "PCd9ss0Obh33",
        "colab_type": "code",
        "colab": {}
      },
      "source": [
        "\n",
        "#Creating an array from sub-classes:"
      ],
      "execution_count": null,
      "outputs": []
    },
    {
      "cell_type": "code",
      "metadata": {
        "id": "lhskTd-oiPLj",
        "colab_type": "code",
        "colab": {
          "base_uri": "https://localhost:8080/",
          "height": 51
        },
        "outputId": "7bbac69e-a413-4301-ef1f-2714035a8eb4"
      },
      "source": [
        "np.array([[1, 2],[4,7]])"
      ],
      "execution_count": 37,
      "outputs": [
        {
          "output_type": "execute_result",
          "data": {
            "text/plain": [
              "array([[1, 2],\n",
              "       [4, 7]])"
            ]
          },
          "metadata": {
            "tags": []
          },
          "execution_count": 37
        }
      ]
    },
    {
      "cell_type": "code",
      "metadata": {
        "id": "m-eZKlEdiPRo",
        "colab_type": "code",
        "colab": {
          "base_uri": "https://localhost:8080/",
          "height": 51
        },
        "outputId": "ffdf4005-37d2-4e8b-9e31-e0624f2ddd6c"
      },
      "source": [
        "np.mat(np.array([[1, 2],[4,7]]))"
      ],
      "execution_count": 38,
      "outputs": [
        {
          "output_type": "execute_result",
          "data": {
            "text/plain": [
              "matrix([[1, 2],\n",
              "        [4, 7]])"
            ]
          },
          "metadata": {
            "tags": []
          },
          "execution_count": 38
        }
      ]
    },
    {
      "cell_type": "code",
      "metadata": {
        "id": "xiZbWO51iPVy",
        "colab_type": "code",
        "colab": {
          "base_uri": "https://localhost:8080/",
          "height": 34
        },
        "outputId": "7d9b656e-d4e4-4019-9fa7-6ddf8e02ac60"
      },
      "source": [
        "type(np.mat(np.array([[1, 2],[4,7]]))) # matrix is a data type representation. you can convert any array into matrix. also you can covert matrix into array."
      ],
      "execution_count": 39,
      "outputs": [
        {
          "output_type": "execute_result",
          "data": {
            "text/plain": [
              "numpy.matrix"
            ]
          },
          "metadata": {
            "tags": []
          },
          "execution_count": 39
        }
      ]
    },
    {
      "cell_type": "code",
      "metadata": {
        "id": "F-n2Mo6-iuTt",
        "colab_type": "code",
        "colab": {
          "base_uri": "https://localhost:8080/",
          "height": 34
        },
        "outputId": "a8f114e0-0c58-42be-81c8-95b61ff3f7e1"
      },
      "source": [
        "m = np.mat(np.array([[1, 2],[4,7]]))\n",
        "type(m)"
      ],
      "execution_count": 41,
      "outputs": [
        {
          "output_type": "execute_result",
          "data": {
            "text/plain": [
              "numpy.matrix"
            ]
          },
          "metadata": {
            "tags": []
          },
          "execution_count": 41
        }
      ]
    },
    {
      "cell_type": "code",
      "metadata": {
        "id": "PEJpsEk7iuak",
        "colab_type": "code",
        "colab": {
          "base_uri": "https://localhost:8080/",
          "height": 51
        },
        "outputId": "8def01f0-5908-4001-c03b-7a67cccb330c"
      },
      "source": [
        "np.array(m)"
      ],
      "execution_count": 42,
      "outputs": [
        {
          "output_type": "execute_result",
          "data": {
            "text/plain": [
              "array([[1, 2],\n",
              "       [4, 7]])"
            ]
          },
          "metadata": {
            "tags": []
          },
          "execution_count": 42
        }
      ]
    },
    {
      "cell_type": "code",
      "metadata": {
        "id": "0-0OE9_VjCkV",
        "colab_type": "code",
        "colab": {
          "base_uri": "https://localhost:8080/",
          "height": 34
        },
        "outputId": "c043a2af-58bd-4f03-8d29-7c9fc87c86dd"
      },
      "source": [
        "m[0,1]"
      ],
      "execution_count": 45,
      "outputs": [
        {
          "output_type": "execute_result",
          "data": {
            "text/plain": [
              "2"
            ]
          },
          "metadata": {
            "tags": []
          },
          "execution_count": 45
        }
      ]
    },
    {
      "cell_type": "code",
      "metadata": {
        "id": "bmW6LO6XjCq8",
        "colab_type": "code",
        "colab": {
          "base_uri": "https://localhost:8080/",
          "height": 34
        },
        "outputId": "1ac44b18-a513-4990-fb7c-ed8fe89a283c"
      },
      "source": [
        "m[1,1]"
      ],
      "execution_count": 46,
      "outputs": [
        {
          "output_type": "execute_result",
          "data": {
            "text/plain": [
              "7"
            ]
          },
          "metadata": {
            "tags": []
          },
          "execution_count": 46
        }
      ]
    },
    {
      "cell_type": "code",
      "metadata": {
        "id": "tSsi1wuobh36",
        "colab_type": "code",
        "colab": {
          "base_uri": "https://localhost:8080/",
          "height": 51
        },
        "outputId": "5104a884-3e01-4750-8e4b-bc6a0073515a"
      },
      "source": [
        "np.mat(np.array([[1, 2],[4,7]]))"
      ],
      "execution_count": 43,
      "outputs": [
        {
          "output_type": "execute_result",
          "data": {
            "text/plain": [
              "matrix([[1, 2],\n",
              "        [4, 7]])"
            ]
          },
          "metadata": {
            "tags": []
          },
          "execution_count": 43
        }
      ]
    },
    {
      "cell_type": "code",
      "metadata": {
        "id": "iIM6eR_jbh39",
        "colab_type": "code",
        "colab": {
          "base_uri": "https://localhost:8080/",
          "height": 51
        },
        "outputId": "77d4435c-8f86-4b31-d5c1-5760dcf42799"
      },
      "source": [
        "np.mat('1 2; 3 4')"
      ],
      "execution_count": 44,
      "outputs": [
        {
          "output_type": "execute_result",
          "data": {
            "text/plain": [
              "matrix([[1, 2],\n",
              "        [3, 4]])"
            ]
          },
          "metadata": {
            "tags": []
          },
          "execution_count": 44
        }
      ]
    },
    {
      "cell_type": "markdown",
      "metadata": {
        "id": "NdNbqHBXbh4A",
        "colab_type": "text"
      },
      "source": [
        "# numpy.asarray"
      ]
    },
    {
      "cell_type": "code",
      "metadata": {
        "id": "TGUfo6Q6bh4B",
        "colab_type": "code",
        "colab": {}
      },
      "source": [
        "#Convert the input to an array."
      ],
      "execution_count": null,
      "outputs": []
    },
    {
      "cell_type": "code",
      "metadata": {
        "id": "VzcgPL75bh4E",
        "colab_type": "code",
        "colab": {}
      },
      "source": [
        "#Convert a list into an array:"
      ],
      "execution_count": null,
      "outputs": []
    },
    {
      "cell_type": "code",
      "metadata": {
        "id": "mxvPrapFjbhh",
        "colab_type": "code",
        "colab": {
          "base_uri": "https://localhost:8080/",
          "height": 34
        },
        "outputId": "872a1f6d-693b-48e2-ab8b-573cede29b53"
      },
      "source": [
        "np.asarray([1,2,3,4,5])"
      ],
      "execution_count": 47,
      "outputs": [
        {
          "output_type": "execute_result",
          "data": {
            "text/plain": [
              "array([1, 2, 3, 4, 5])"
            ]
          },
          "metadata": {
            "tags": []
          },
          "execution_count": 47
        }
      ]
    },
    {
      "cell_type": "code",
      "metadata": {
        "id": "SQkvG84ujbpy",
        "colab_type": "code",
        "colab": {
          "base_uri": "https://localhost:8080/",
          "height": 34
        },
        "outputId": "ee2d5b52-405f-4deb-bb14-a2947868a83a"
      },
      "source": [
        "type(np.asarray([1,2,3,4,5]))"
      ],
      "execution_count": 48,
      "outputs": [
        {
          "output_type": "execute_result",
          "data": {
            "text/plain": [
              "numpy.ndarray"
            ]
          },
          "metadata": {
            "tags": []
          },
          "execution_count": 48
        }
      ]
    },
    {
      "cell_type": "code",
      "metadata": {
        "id": "xMCvIkiRjb9i",
        "colab_type": "code",
        "colab": {
          "base_uri": "https://localhost:8080/",
          "height": 34
        },
        "outputId": "b004c330-1def-4f4f-e849-f2b9c5e4b233"
      },
      "source": [
        "np.asanyarray([3,4,5,6,7])"
      ],
      "execution_count": 50,
      "outputs": [
        {
          "output_type": "execute_result",
          "data": {
            "text/plain": [
              "array([3, 4, 5, 6, 7])"
            ]
          },
          "metadata": {
            "tags": []
          },
          "execution_count": 50
        }
      ]
    },
    {
      "cell_type": "code",
      "metadata": {
        "id": "A1uMgC2Rj2jS",
        "colab_type": "code",
        "colab": {
          "base_uri": "https://localhost:8080/",
          "height": 34
        },
        "outputId": "91fcdc39-6b64-4448-c231-aa90354f4c80"
      },
      "source": [
        "type(np.asanyarray([3,4,5,6,7]))"
      ],
      "execution_count": 51,
      "outputs": [
        {
          "output_type": "execute_result",
          "data": {
            "text/plain": [
              "numpy.ndarray"
            ]
          },
          "metadata": {
            "tags": []
          },
          "execution_count": 51
        }
      ]
    },
    {
      "cell_type": "code",
      "metadata": {
        "id": "3Y1kRLxjj2g5",
        "colab_type": "code",
        "colab": {
          "base_uri": "https://localhost:8080/",
          "height": 34
        },
        "outputId": "7bd5c06c-c60d-4af6-cd8d-579ce30e9fc4"
      },
      "source": [
        "m = np.mat([1,2,3,4,5])\n",
        "m"
      ],
      "execution_count": 53,
      "outputs": [
        {
          "output_type": "execute_result",
          "data": {
            "text/plain": [
              "matrix([[1, 2, 3, 4, 5]])"
            ]
          },
          "metadata": {
            "tags": []
          },
          "execution_count": 53
        }
      ]
    },
    {
      "cell_type": "code",
      "metadata": {
        "id": "I6Ns2Mk2kHkB",
        "colab_type": "code",
        "colab": {
          "base_uri": "https://localhost:8080/",
          "height": 34
        },
        "outputId": "6c7364bf-0dc4-4055-cbad-52f8f9ae42fc"
      },
      "source": [
        "np.asanyarray(m) # matrix is a subclass of array. "
      ],
      "execution_count": 54,
      "outputs": [
        {
          "output_type": "execute_result",
          "data": {
            "text/plain": [
              "matrix([[1, 2, 3, 4, 5]])"
            ]
          },
          "metadata": {
            "tags": []
          },
          "execution_count": 54
        }
      ]
    },
    {
      "cell_type": "code",
      "metadata": {
        "id": "2_JcHki8kHrM",
        "colab_type": "code",
        "colab": {
          "base_uri": "https://localhost:8080/",
          "height": 34
        },
        "outputId": "25857367-f232-432e-b55a-96586a59ac0c"
      },
      "source": [
        "np.asanyarray([1,2,3,4,5]) # if my data is available in some form of array then it will not convert it into array. if data is not available in array form then it will convert."
      ],
      "execution_count": 55,
      "outputs": [
        {
          "output_type": "execute_result",
          "data": {
            "text/plain": [
              "array([1, 2, 3, 4, 5])"
            ]
          },
          "metadata": {
            "tags": []
          },
          "execution_count": 55
        }
      ]
    },
    {
      "cell_type": "code",
      "metadata": {
        "id": "ZJ7CgzI0bh4H",
        "colab_type": "code",
        "colab": {},
        "outputId": "5a290f03-b215-4f0c-8508-f5f4cefe6937"
      },
      "source": [
        " a = [1, 2]\n",
        "type(a)"
      ],
      "execution_count": null,
      "outputs": [
        {
          "output_type": "execute_result",
          "data": {
            "text/plain": [
              "list"
            ]
          },
          "metadata": {
            "tags": []
          },
          "execution_count": 27
        }
      ]
    },
    {
      "cell_type": "code",
      "metadata": {
        "id": "3zWMYhjwbh4L",
        "colab_type": "code",
        "colab": {},
        "outputId": "686ffe5a-bbaf-43ec-f1c3-c8fa2f5534b9"
      },
      "source": [
        "type(np.asarray(a))"
      ],
      "execution_count": null,
      "outputs": [
        {
          "output_type": "execute_result",
          "data": {
            "text/plain": [
              "numpy.ndarray"
            ]
          },
          "metadata": {
            "tags": []
          },
          "execution_count": 25
        }
      ]
    },
    {
      "cell_type": "code",
      "metadata": {
        "id": "oBASHVWVbh4Q",
        "colab_type": "code",
        "colab": {},
        "outputId": "e15d2c29-010d-4e4b-d228-56cadc9c88c0"
      },
      "source": [
        "a = np.array([1, 2]) #Existing arrays are not copied\n",
        "type(a)"
      ],
      "execution_count": null,
      "outputs": [
        {
          "output_type": "execute_result",
          "data": {
            "text/plain": [
              "numpy.ndarray"
            ]
          },
          "metadata": {
            "tags": []
          },
          "execution_count": 31
        }
      ]
    },
    {
      "cell_type": "code",
      "metadata": {
        "id": "nexQgW7qbh4T",
        "colab_type": "code",
        "colab": {},
        "outputId": "b9b49ca1-fd59-4d49-c40a-c8ef2f5fe872"
      },
      "source": [
        "np.asarray((1,2))"
      ],
      "execution_count": null,
      "outputs": [
        {
          "output_type": "execute_result",
          "data": {
            "text/plain": [
              "array([1, 2])"
            ]
          },
          "metadata": {
            "tags": []
          },
          "execution_count": 42
        }
      ]
    },
    {
      "cell_type": "code",
      "metadata": {
        "id": "AUTCdAJkbh4W",
        "colab_type": "code",
        "colab": {}
      },
      "source": [
        "#If dtype is set, array is copied only if dtype does not match:"
      ],
      "execution_count": null,
      "outputs": []
    },
    {
      "cell_type": "code",
      "metadata": {
        "id": "5GWiXvL_bh4Z",
        "colab_type": "code",
        "colab": {},
        "outputId": "1f756ac8-690d-4cd4-894b-bee7d82f2737"
      },
      "source": [
        "a = np.array([1, 2], dtype=np.float32)\n",
        "a"
      ],
      "execution_count": null,
      "outputs": [
        {
          "output_type": "execute_result",
          "data": {
            "text/plain": [
              "array([1., 2.], dtype=float32)"
            ]
          },
          "metadata": {
            "tags": []
          },
          "execution_count": 43
        }
      ]
    },
    {
      "cell_type": "code",
      "metadata": {
        "id": "ngnJDd2zlcyE",
        "colab_type": "code",
        "colab": {
          "base_uri": "https://localhost:8080/",
          "height": 34
        },
        "outputId": "10359b1e-018a-4f1f-8747-b5f0459fdc68"
      },
      "source": [
        "a = np.array([1,2,3,4,5])\n",
        "a"
      ],
      "execution_count": 57,
      "outputs": [
        {
          "output_type": "execute_result",
          "data": {
            "text/plain": [
              "array([1, 2, 3, 4, 5])"
            ]
          },
          "metadata": {
            "tags": []
          },
          "execution_count": 57
        }
      ]
    },
    {
      "cell_type": "code",
      "metadata": {
        "id": "WJOUYRiQlc6X",
        "colab_type": "code",
        "colab": {
          "base_uri": "https://localhost:8080/",
          "height": 34
        },
        "outputId": "9a2f48b1-7f5c-4e79-dabc-8509ca530d24"
      },
      "source": [
        "b = a # opration is called \"solocopy\"\n",
        "b"
      ],
      "execution_count": 58,
      "outputs": [
        {
          "output_type": "execute_result",
          "data": {
            "text/plain": [
              "array([1, 2, 3, 4, 5])"
            ]
          },
          "metadata": {
            "tags": []
          },
          "execution_count": 58
        }
      ]
    },
    {
      "cell_type": "code",
      "metadata": {
        "id": "7RLBaKGrldA1",
        "colab_type": "code",
        "colab": {
          "base_uri": "https://localhost:8080/",
          "height": 34
        },
        "outputId": "db9b0092-3225-4b3e-ebf5-7d0a8affa4c2"
      },
      "source": [
        "b[0]"
      ],
      "execution_count": 59,
      "outputs": [
        {
          "output_type": "execute_result",
          "data": {
            "text/plain": [
              "1"
            ]
          },
          "metadata": {
            "tags": []
          },
          "execution_count": 59
        }
      ]
    },
    {
      "cell_type": "code",
      "metadata": {
        "id": "3pPvaRoYldMA",
        "colab_type": "code",
        "colab": {
          "base_uri": "https://localhost:8080/",
          "height": 34
        },
        "outputId": "0f207c26-ef58-4a09-8742-6803088d5717"
      },
      "source": [
        "b[0] = 234\n",
        "b"
      ],
      "execution_count": 60,
      "outputs": [
        {
          "output_type": "execute_result",
          "data": {
            "text/plain": [
              "array([234,   2,   3,   4,   5])"
            ]
          },
          "metadata": {
            "tags": []
          },
          "execution_count": 60
        }
      ]
    },
    {
      "cell_type": "code",
      "metadata": {
        "id": "O3n7NUPtlc3d",
        "colab_type": "code",
        "colab": {
          "base_uri": "https://localhost:8080/",
          "height": 34
        },
        "outputId": "d1a1eb83-6744-4603-a2f5-5bb9809a95b9"
      },
      "source": [
        "a"
      ],
      "execution_count": 61,
      "outputs": [
        {
          "output_type": "execute_result",
          "data": {
            "text/plain": [
              "array([234,   2,   3,   4,   5])"
            ]
          },
          "metadata": {
            "tags": []
          },
          "execution_count": 61
        }
      ]
    },
    {
      "cell_type": "code",
      "metadata": {
        "id": "69PFgweSl35k",
        "colab_type": "code",
        "colab": {
          "base_uri": "https://localhost:8080/",
          "height": 34
        },
        "outputId": "d364de4d-adc5-469c-9eb9-65e88379bbeb"
      },
      "source": [
        "c = np.array(a,copy=True) # opration is called as \"deep copy\"\n",
        "c"
      ],
      "execution_count": 62,
      "outputs": [
        {
          "output_type": "execute_result",
          "data": {
            "text/plain": [
              "array([234,   2,   3,   4,   5])"
            ]
          },
          "metadata": {
            "tags": []
          },
          "execution_count": 62
        }
      ]
    },
    {
      "cell_type": "code",
      "metadata": {
        "id": "Tb5PMT3ul4AU",
        "colab_type": "code",
        "colab": {
          "base_uri": "https://localhost:8080/",
          "height": 34
        },
        "outputId": "e3b44b4b-1d87-4c74-ae8c-45bdd1421402"
      },
      "source": [
        "c[0]"
      ],
      "execution_count": 63,
      "outputs": [
        {
          "output_type": "execute_result",
          "data": {
            "text/plain": [
              "234"
            ]
          },
          "metadata": {
            "tags": []
          },
          "execution_count": 63
        }
      ]
    },
    {
      "cell_type": "code",
      "metadata": {
        "id": "_8SCnx4Wl4OW",
        "colab_type": "code",
        "colab": {
          "base_uri": "https://localhost:8080/",
          "height": 34
        },
        "outputId": "a466908c-a25c-4999-a01b-82b95057f193"
      },
      "source": [
        "a[0]"
      ],
      "execution_count": 64,
      "outputs": [
        {
          "output_type": "execute_result",
          "data": {
            "text/plain": [
              "234"
            ]
          },
          "metadata": {
            "tags": []
          },
          "execution_count": 64
        }
      ]
    },
    {
      "cell_type": "code",
      "metadata": {
        "id": "FROkALMRmfdv",
        "colab_type": "code",
        "colab": {}
      },
      "source": [
        "c[0] = 454"
      ],
      "execution_count": 65,
      "outputs": []
    },
    {
      "cell_type": "code",
      "metadata": {
        "id": "v6YIZc-Mmfks",
        "colab_type": "code",
        "colab": {
          "base_uri": "https://localhost:8080/",
          "height": 34
        },
        "outputId": "0b9af656-e0aa-4f5a-9764-bb0db5cd6a85"
      },
      "source": [
        "a[0]"
      ],
      "execution_count": 66,
      "outputs": [
        {
          "output_type": "execute_result",
          "data": {
            "text/plain": [
              "234"
            ]
          },
          "metadata": {
            "tags": []
          },
          "execution_count": 66
        }
      ]
    },
    {
      "cell_type": "code",
      "metadata": {
        "id": "EKNIWt1Wmfr_",
        "colab_type": "code",
        "colab": {
          "base_uri": "https://localhost:8080/",
          "height": 34
        },
        "outputId": "eeb5a0f8-5d36-4f22-ecfa-086faa70b792"
      },
      "source": [
        "c"
      ],
      "execution_count": 67,
      "outputs": [
        {
          "output_type": "execute_result",
          "data": {
            "text/plain": [
              "array([454,   2,   3,   4,   5])"
            ]
          },
          "metadata": {
            "tags": []
          },
          "execution_count": 67
        }
      ]
    },
    {
      "cell_type": "code",
      "metadata": {
        "id": "2ayj0-zbmnK1",
        "colab_type": "code",
        "colab": {
          "base_uri": "https://localhost:8080/",
          "height": 34
        },
        "outputId": "536e461b-4428-4774-d716-b117b6c0e9cf"
      },
      "source": [
        "a"
      ],
      "execution_count": 68,
      "outputs": [
        {
          "output_type": "execute_result",
          "data": {
            "text/plain": [
              "array([234,   2,   3,   4,   5])"
            ]
          },
          "metadata": {
            "tags": []
          },
          "execution_count": 68
        }
      ]
    },
    {
      "cell_type": "code",
      "metadata": {
        "id": "A5ic8cRNmqFB",
        "colab_type": "code",
        "colab": {}
      },
      "source": [
        "a[0] = 45456"
      ],
      "execution_count": 69,
      "outputs": []
    },
    {
      "cell_type": "code",
      "metadata": {
        "id": "3gLCbEnLmqLr",
        "colab_type": "code",
        "colab": {
          "base_uri": "https://localhost:8080/",
          "height": 34
        },
        "outputId": "3e9d0d1d-b72c-42c8-8f93-a470d79d1eb7"
      },
      "source": [
        "a"
      ],
      "execution_count": 70,
      "outputs": [
        {
          "output_type": "execute_result",
          "data": {
            "text/plain": [
              "array([45456,     2,     3,     4,     5])"
            ]
          },
          "metadata": {
            "tags": []
          },
          "execution_count": 70
        }
      ]
    },
    {
      "cell_type": "code",
      "metadata": {
        "id": "V9nsCcqdmqTK",
        "colab_type": "code",
        "colab": {
          "base_uri": "https://localhost:8080/",
          "height": 34
        },
        "outputId": "89912318-d645-4f13-b532-0c154a97cfac"
      },
      "source": [
        "c"
      ],
      "execution_count": 71,
      "outputs": [
        {
          "output_type": "execute_result",
          "data": {
            "text/plain": [
              "array([454,   2,   3,   4,   5])"
            ]
          },
          "metadata": {
            "tags": []
          },
          "execution_count": 71
        }
      ]
    },
    {
      "cell_type": "code",
      "metadata": {
        "id": "4ymqEc1gniTQ",
        "colab_type": "code",
        "colab": {
          "base_uri": "https://localhost:8080/",
          "height": 34
        },
        "outputId": "6c156e41-5222-4fae-c89f-5883e3a7f184"
      },
      "source": [
        "a = np.array([1,2,3,4,5])\n",
        "a"
      ],
      "execution_count": 73,
      "outputs": [
        {
          "output_type": "execute_result",
          "data": {
            "text/plain": [
              "array([1, 2, 3, 4, 5])"
            ]
          },
          "metadata": {
            "tags": []
          },
          "execution_count": 73
        }
      ]
    },
    {
      "cell_type": "code",
      "metadata": {
        "id": "sYfOEwYjnigG",
        "colab_type": "code",
        "colab": {}
      },
      "source": [
        "c = np.array(a)"
      ],
      "execution_count": 74,
      "outputs": []
    },
    {
      "cell_type": "code",
      "metadata": {
        "id": "G6-qDVcIniw0",
        "colab_type": "code",
        "colab": {
          "base_uri": "https://localhost:8080/",
          "height": 34
        },
        "outputId": "a9b866c6-878b-4ea2-fc11-efd96b8195c9"
      },
      "source": [
        "c[0]"
      ],
      "execution_count": 75,
      "outputs": [
        {
          "output_type": "execute_result",
          "data": {
            "text/plain": [
              "1"
            ]
          },
          "metadata": {
            "tags": []
          },
          "execution_count": 75
        }
      ]
    },
    {
      "cell_type": "code",
      "metadata": {
        "id": "9QapxNgEniub",
        "colab_type": "code",
        "colab": {}
      },
      "source": [
        "c[0] = 234"
      ],
      "execution_count": 76,
      "outputs": []
    },
    {
      "cell_type": "code",
      "metadata": {
        "id": "CITt5z4kniqR",
        "colab_type": "code",
        "colab": {
          "base_uri": "https://localhost:8080/",
          "height": 34
        },
        "outputId": "1fb002ca-f566-4a48-9a20-3b1ddfe9e2ee"
      },
      "source": [
        "c"
      ],
      "execution_count": 77,
      "outputs": [
        {
          "output_type": "execute_result",
          "data": {
            "text/plain": [
              "array([234,   2,   3,   4,   5])"
            ]
          },
          "metadata": {
            "tags": []
          },
          "execution_count": 77
        }
      ]
    },
    {
      "cell_type": "code",
      "metadata": {
        "id": "klFuQEMcnim1",
        "colab_type": "code",
        "colab": {
          "base_uri": "https://localhost:8080/",
          "height": 34
        },
        "outputId": "dd2e70cc-6658-47d9-c587-8440f6a95514"
      },
      "source": [
        "a"
      ],
      "execution_count": 78,
      "outputs": [
        {
          "output_type": "execute_result",
          "data": {
            "text/plain": [
              "array([1, 2, 3, 4, 5])"
            ]
          },
          "metadata": {
            "tags": []
          },
          "execution_count": 78
        }
      ]
    },
    {
      "cell_type": "code",
      "metadata": {
        "id": "lxqxsX-vniaO",
        "colab_type": "code",
        "colab": {
          "base_uri": "https://localhost:8080/",
          "height": 34
        },
        "outputId": "ffccf306-12c6-4c68-aee0-5dc85dfa602e"
      },
      "source": [
        "id(c)"
      ],
      "execution_count": 79,
      "outputs": [
        {
          "output_type": "execute_result",
          "data": {
            "text/plain": [
              "140190037184144"
            ]
          },
          "metadata": {
            "tags": []
          },
          "execution_count": 79
        }
      ]
    },
    {
      "cell_type": "code",
      "metadata": {
        "id": "WxdzN3fboI3D",
        "colab_type": "code",
        "colab": {
          "base_uri": "https://localhost:8080/",
          "height": 51
        },
        "outputId": "f4f4486c-59f5-421b-f7a8-1e4639a8a915"
      },
      "source": [
        "np.array([[1,2],[3,4]])"
      ],
      "execution_count": 80,
      "outputs": [
        {
          "output_type": "execute_result",
          "data": {
            "text/plain": [
              "array([[1, 2],\n",
              "       [3, 4]])"
            ]
          },
          "metadata": {
            "tags": []
          },
          "execution_count": 80
        }
      ]
    },
    {
      "cell_type": "code",
      "metadata": {
        "id": "yHIjbhsAoMzm",
        "colab_type": "code",
        "colab": {
          "base_uri": "https://localhost:8080/",
          "height": 34
        },
        "outputId": "fcbfdb29-eb44-4c55-8da4-d2c1b898769a"
      },
      "source": [
        "np.array([[1,2],[3,4],[4,5,6]])"
      ],
      "execution_count": 81,
      "outputs": [
        {
          "output_type": "execute_result",
          "data": {
            "text/plain": [
              "array([list([1, 2]), list([3, 4]), list([4, 5, 6])], dtype=object)"
            ]
          },
          "metadata": {
            "tags": []
          },
          "execution_count": 81
        }
      ]
    },
    {
      "cell_type": "code",
      "metadata": {
        "id": "AwdBZ60socEV",
        "colab_type": "code",
        "colab": {
          "base_uri": "https://localhost:8080/",
          "height": 34
        },
        "outputId": "baaa2108-5049-4852-cd09-d09999592fd7"
      },
      "source": [
        "np.asarray([1,2,3,4], dtype=np.int16)"
      ],
      "execution_count": 83,
      "outputs": [
        {
          "output_type": "execute_result",
          "data": {
            "text/plain": [
              "array([1, 2, 3, 4], dtype=int16)"
            ]
          },
          "metadata": {
            "tags": []
          },
          "execution_count": 83
        }
      ]
    },
    {
      "cell_type": "code",
      "metadata": {
        "id": "fn-ppYU9ocKd",
        "colab_type": "code",
        "colab": {
          "base_uri": "https://localhost:8080/",
          "height": 34
        },
        "outputId": "40c3659c-400d-4e1d-ad2c-ae07eb6490ae"
      },
      "source": [
        "np.asarray([1,2,3,4], dtype=np.float64)"
      ],
      "execution_count": 84,
      "outputs": [
        {
          "output_type": "execute_result",
          "data": {
            "text/plain": [
              "array([1., 2., 3., 4.])"
            ]
          },
          "metadata": {
            "tags": []
          },
          "execution_count": 84
        }
      ]
    },
    {
      "cell_type": "code",
      "metadata": {
        "id": "tlZ7t2ZjocRc",
        "colab_type": "code",
        "colab": {
          "base_uri": "https://localhost:8080/",
          "height": 34
        },
        "outputId": "b1456728-9b32-4ae9-9602-38d379e33d25"
      },
      "source": [
        "np.asarray([1,2,3,4], dtype=np.complex)"
      ],
      "execution_count": 85,
      "outputs": [
        {
          "output_type": "execute_result",
          "data": {
            "text/plain": [
              "array([1.+0.j, 2.+0.j, 3.+0.j, 4.+0.j])"
            ]
          },
          "metadata": {
            "tags": []
          },
          "execution_count": 85
        }
      ]
    },
    {
      "cell_type": "code",
      "metadata": {
        "id": "v5eaEXDGo2E3",
        "colab_type": "code",
        "colab": {
          "base_uri": "https://localhost:8080/",
          "height": 34
        },
        "outputId": "119a6db4-0b6e-4801-8421-8b415e992ed6"
      },
      "source": [
        "np.asanyarray(np.mat([1,2,3,4,5]))"
      ],
      "execution_count": 87,
      "outputs": [
        {
          "output_type": "execute_result",
          "data": {
            "text/plain": [
              "matrix([[1, 2, 3, 4, 5]])"
            ]
          },
          "metadata": {
            "tags": []
          },
          "execution_count": 87
        }
      ]
    },
    {
      "cell_type": "code",
      "metadata": {
        "id": "HZREPbkwbh4c",
        "colab_type": "code",
        "colab": {},
        "outputId": "6a04ca9e-242c-46f4-d6cf-e05279f0349e"
      },
      "source": [
        "np.asarray([1,2]) is a"
      ],
      "execution_count": null,
      "outputs": [
        {
          "output_type": "execute_result",
          "data": {
            "text/plain": [
              "False"
            ]
          },
          "metadata": {
            "tags": []
          },
          "execution_count": 33
        }
      ]
    },
    {
      "cell_type": "code",
      "metadata": {
        "id": "Wb4wgUZUbh4f",
        "colab_type": "code",
        "colab": {},
        "outputId": "473b5970-ef31-4219-9401-365f339c5d27"
      },
      "source": [
        "np.asarray([1,2])"
      ],
      "execution_count": null,
      "outputs": [
        {
          "output_type": "execute_result",
          "data": {
            "text/plain": [
              "array([1, 2])"
            ]
          },
          "metadata": {
            "tags": []
          },
          "execution_count": 36
        }
      ]
    },
    {
      "cell_type": "code",
      "metadata": {
        "id": "akSK9pVlbh4k",
        "colab_type": "code",
        "colab": {},
        "outputId": "6a0df617-945c-451c-fee7-43e1190fe7e0"
      },
      "source": [
        "np.asarray(a, dtype=np.float64) is a"
      ],
      "execution_count": null,
      "outputs": [
        {
          "output_type": "execute_result",
          "data": {
            "text/plain": [
              "False"
            ]
          },
          "metadata": {
            "tags": []
          },
          "execution_count": 34
        }
      ]
    },
    {
      "cell_type": "code",
      "metadata": {
        "id": "Lo7HTUM8bh4r",
        "colab_type": "code",
        "colab": {}
      },
      "source": [
        "# ndarray subclasses are not passed through"
      ],
      "execution_count": null,
      "outputs": []
    },
    {
      "cell_type": "code",
      "metadata": {
        "id": "iyhfQRzibh4w",
        "colab_type": "code",
        "colab": {},
        "outputId": "9334c7f8-1193-48c7-c703-642abe3803ed"
      },
      "source": [
        "issubclass(np.matrix, np.ndarray)"
      ],
      "execution_count": null,
      "outputs": [
        {
          "output_type": "execute_result",
          "data": {
            "text/plain": [
              "True"
            ]
          },
          "metadata": {
            "tags": []
          },
          "execution_count": 44
        }
      ]
    },
    {
      "cell_type": "code",
      "metadata": {
        "id": "iNjARM1obh42",
        "colab_type": "code",
        "colab": {},
        "outputId": "5f4dbc15-7516-4b5e-afe5-b8cbef023fe3"
      },
      "source": [
        "a = np.matrix([[1, 2]])\n",
        "np.asanyarray(a)\n"
      ],
      "execution_count": null,
      "outputs": [
        {
          "output_type": "execute_result",
          "data": {
            "text/plain": [
              "matrix([[1, 2]])"
            ]
          },
          "metadata": {
            "tags": []
          },
          "execution_count": 48
        }
      ]
    },
    {
      "cell_type": "code",
      "metadata": {
        "id": "ecNgfpuQbh47",
        "colab_type": "code",
        "colab": {},
        "outputId": "f79f78e8-dda4-4c10-febc-3418bec2f378"
      },
      "source": [
        "np.asarray(a) is a"
      ],
      "execution_count": null,
      "outputs": [
        {
          "output_type": "execute_result",
          "data": {
            "text/plain": [
              "False"
            ]
          },
          "metadata": {
            "tags": []
          },
          "execution_count": 49
        }
      ]
    },
    {
      "cell_type": "code",
      "metadata": {
        "id": "YjVsy5MKbh5A",
        "colab_type": "code",
        "colab": {},
        "outputId": "f03520d1-2879-4985-d5e8-378fe4a74bd7"
      },
      "source": [
        "np.asanyarray(a) is a"
      ],
      "execution_count": null,
      "outputs": [
        {
          "output_type": "execute_result",
          "data": {
            "text/plain": [
              "True"
            ]
          },
          "metadata": {
            "tags": []
          },
          "execution_count": 50
        }
      ]
    },
    {
      "cell_type": "code",
      "metadata": {
        "id": "95H1Qa4Sbh5D",
        "colab_type": "code",
        "colab": {},
        "outputId": "dd91c98c-6d3d-44f4-f032-a3e8946c30b4"
      },
      "source": [
        "type(np.asarray(a))"
      ],
      "execution_count": null,
      "outputs": [
        {
          "output_type": "execute_result",
          "data": {
            "text/plain": [
              "numpy.ndarray"
            ]
          },
          "metadata": {
            "tags": []
          },
          "execution_count": 51
        }
      ]
    },
    {
      "cell_type": "markdown",
      "metadata": {
        "id": "INytM2NFbh5H",
        "colab_type": "text"
      },
      "source": [
        "# numpy.asanyarray"
      ]
    },
    {
      "cell_type": "code",
      "metadata": {
        "id": "vFrKsqRnbh5I",
        "colab_type": "code",
        "colab": {},
        "outputId": "27e44572-bdbf-4698-bb80-d998d87e131d"
      },
      "source": [
        "a = [1, 2]\n",
        "np.asanyarray(a)"
      ],
      "execution_count": null,
      "outputs": [
        {
          "output_type": "execute_result",
          "data": {
            "text/plain": [
              "array([1, 2])"
            ]
          },
          "metadata": {
            "tags": []
          },
          "execution_count": 50
        }
      ]
    },
    {
      "cell_type": "code",
      "metadata": {
        "id": "iuNJa53Qbh5L",
        "colab_type": "code",
        "colab": {},
        "outputId": "9e1cb326-23c5-461a-863d-3d9bed41430b"
      },
      "source": [
        "a = np.matrix([1, 2])\n",
        "a"
      ],
      "execution_count": null,
      "outputs": [
        {
          "output_type": "execute_result",
          "data": {
            "text/plain": [
              "matrix([[1, 2]])"
            ]
          },
          "metadata": {
            "tags": []
          },
          "execution_count": 86
        }
      ]
    },
    {
      "cell_type": "code",
      "metadata": {
        "id": "1KZLXtIWbh5O",
        "colab_type": "code",
        "colab": {},
        "outputId": "1a7c4f11-055f-4e57-8b8d-001807789a67"
      },
      "source": [
        "np.asanyarray([1,2]) is a"
      ],
      "execution_count": null,
      "outputs": [
        {
          "output_type": "execute_result",
          "data": {
            "text/plain": [
              "True"
            ]
          },
          "metadata": {
            "tags": []
          },
          "execution_count": 52
        }
      ]
    },
    {
      "cell_type": "markdown",
      "metadata": {
        "id": "oCc8XLNubh5S",
        "colab_type": "raw"
      },
      "source": [
        "#numpy.copy"
      ]
    },
    {
      "cell_type": "code",
      "metadata": {
        "id": "qDM4pqhLbh5T",
        "colab_type": "code",
        "colab": {},
        "outputId": "1844072a-d416-4bc2-c19a-16010703653f"
      },
      "source": [
        "np.array(a, copy=True)  "
      ],
      "execution_count": null,
      "outputs": [
        {
          "output_type": "execute_result",
          "data": {
            "text/plain": [
              "array([[1, 2]])"
            ]
          },
          "metadata": {
            "tags": []
          },
          "execution_count": 52
        }
      ]
    },
    {
      "cell_type": "code",
      "metadata": {
        "collapsed": true,
        "id": "ksyJ6VZxbh5X",
        "colab_type": "code",
        "colab": {}
      },
      "source": [
        "#Create an array x, with a reference y and a copy z:"
      ],
      "execution_count": null,
      "outputs": []
    },
    {
      "cell_type": "code",
      "metadata": {
        "id": "rUO2V3T9bh5a",
        "colab_type": "code",
        "colab": {},
        "outputId": "dd7b01c5-6092-4e95-d8fc-29aace9c419b"
      },
      "source": [
        "x = np.array([1, 2, 3])\n",
        "x\n",
        "y"
      ],
      "execution_count": null,
      "outputs": [
        {
          "output_type": "execute_result",
          "data": {
            "text/plain": [
              "array([1, 2, 3])"
            ]
          },
          "metadata": {
            "tags": []
          },
          "execution_count": 56
        }
      ]
    },
    {
      "cell_type": "code",
      "metadata": {
        "id": "YyNYUGm7bh5d",
        "colab_type": "code",
        "colab": {}
      },
      "source": [
        "y = x"
      ],
      "execution_count": null,
      "outputs": []
    },
    {
      "cell_type": "code",
      "metadata": {
        "id": "GYWcsvk7bh5h",
        "colab_type": "code",
        "colab": {}
      },
      "source": [
        "z = np.copy(x)"
      ],
      "execution_count": null,
      "outputs": []
    },
    {
      "cell_type": "code",
      "metadata": {
        "id": "l-s8Rsr_bh5n",
        "colab_type": "code",
        "colab": {},
        "outputId": "7d12b4ce-2040-4021-ba27-9b4fec672f1a"
      },
      "source": [
        "y[0] = 100\n",
        "x"
      ],
      "execution_count": null,
      "outputs": [
        {
          "output_type": "execute_result",
          "data": {
            "text/plain": [
              "array([100,   2,   3])"
            ]
          },
          "metadata": {
            "tags": []
          },
          "execution_count": 64
        }
      ]
    },
    {
      "cell_type": "code",
      "metadata": {
        "id": "5tSg0G1Mbh5r",
        "colab_type": "code",
        "colab": {},
        "outputId": "69b6645f-7f30-4b6a-f6ec-18708b0bdd8a"
      },
      "source": [
        "x"
      ],
      "execution_count": null,
      "outputs": [
        {
          "output_type": "execute_result",
          "data": {
            "text/plain": [
              "array([100,   2,   3])"
            ]
          },
          "metadata": {
            "tags": []
          },
          "execution_count": 78
        }
      ]
    },
    {
      "cell_type": "code",
      "metadata": {
        "id": "jMZuAglYbh5x",
        "colab_type": "code",
        "colab": {},
        "outputId": "130ef4ce-d21a-449b-a5dc-23ae2d311196"
      },
      "source": [
        "id(x[0])"
      ],
      "execution_count": null,
      "outputs": [
        {
          "output_type": "execute_result",
          "data": {
            "text/plain": [
              "4767545360"
            ]
          },
          "metadata": {
            "tags": []
          },
          "execution_count": 89
        }
      ]
    },
    {
      "cell_type": "code",
      "metadata": {
        "id": "A76lf2whbh52",
        "colab_type": "code",
        "colab": {},
        "outputId": "212bf2ed-075e-4c12-a0e6-009fa3d289d4"
      },
      "source": [
        "id(y[0])"
      ],
      "execution_count": null,
      "outputs": [
        {
          "output_type": "execute_result",
          "data": {
            "text/plain": [
              "4767545408"
            ]
          },
          "metadata": {
            "tags": []
          },
          "execution_count": 91
        }
      ]
    },
    {
      "cell_type": "code",
      "metadata": {
        "id": "rsouvCHAbh57",
        "colab_type": "code",
        "colab": {}
      },
      "source": [
        ""
      ],
      "execution_count": null,
      "outputs": []
    },
    {
      "cell_type": "code",
      "metadata": {
        "id": "I9a3YO6Zbh6C",
        "colab_type": "code",
        "colab": {},
        "outputId": "581709ec-0f37-4777-c463-1366e1e98126"
      },
      "source": [
        "id(x) "
      ],
      "execution_count": null,
      "outputs": [
        {
          "output_type": "execute_result",
          "data": {
            "text/plain": [
              "4768156128"
            ]
          },
          "metadata": {
            "tags": []
          },
          "execution_count": 92
        }
      ]
    },
    {
      "cell_type": "code",
      "metadata": {
        "id": "ARSFnmMJbh6G",
        "colab_type": "code",
        "colab": {},
        "outputId": "3fbeff5d-1341-4c63-8f9e-562103706353"
      },
      "source": [
        "id(y)"
      ],
      "execution_count": null,
      "outputs": [
        {
          "output_type": "execute_result",
          "data": {
            "text/plain": [
              "4768156128"
            ]
          },
          "metadata": {
            "tags": []
          },
          "execution_count": 93
        }
      ]
    },
    {
      "cell_type": "markdown",
      "metadata": {
        "id": "ylltNiMNbh6K",
        "colab_type": "text"
      },
      "source": [
        "# numpy.fromfunction"
      ]
    },
    {
      "cell_type": "code",
      "metadata": {
        "id": "4onNKljTbh6L",
        "colab_type": "code",
        "colab": {}
      },
      "source": [
        "#Construct an array by executing a function over each coordinate."
      ],
      "execution_count": null,
      "outputs": []
    },
    {
      "cell_type": "code",
      "metadata": {
        "id": "KuMOgYkvsRDZ",
        "colab_type": "code",
        "colab": {}
      },
      "source": [
        "def test(a,b,c):\n",
        "  return a*b*c"
      ],
      "execution_count": 99,
      "outputs": []
    },
    {
      "cell_type": "code",
      "metadata": {
        "id": "x8YSXwq6sRPc",
        "colab_type": "code",
        "colab": {
          "base_uri": "https://localhost:8080/",
          "height": 204
        },
        "outputId": "d4a987eb-7203-4d3a-c64c-3e8bc6a3b6c4"
      },
      "source": [
        "np.fromfunction(test,(3,3,3),dtype=int)"
      ],
      "execution_count": 102,
      "outputs": [
        {
          "output_type": "execute_result",
          "data": {
            "text/plain": [
              "array([[[0, 0, 0],\n",
              "        [0, 0, 0],\n",
              "        [0, 0, 0]],\n",
              "\n",
              "       [[0, 0, 0],\n",
              "        [0, 1, 2],\n",
              "        [0, 2, 4]],\n",
              "\n",
              "       [[0, 0, 0],\n",
              "        [0, 2, 4],\n",
              "        [0, 4, 8]]])"
            ]
          },
          "metadata": {
            "tags": []
          },
          "execution_count": 102
        }
      ]
    },
    {
      "cell_type": "code",
      "metadata": {
        "id": "vikk8wnabh6P",
        "colab_type": "code",
        "colab": {
          "base_uri": "https://localhost:8080/",
          "height": 68
        },
        "outputId": "8a098813-aff3-4ae3-f6ab-6e69744779e6"
      },
      "source": [
        "np.fromfunction(lambda i, j: i == j, (3, 3), dtype=int)"
      ],
      "execution_count": 88,
      "outputs": [
        {
          "output_type": "execute_result",
          "data": {
            "text/plain": [
              "array([[ True, False, False],\n",
              "       [False,  True, False],\n",
              "       [False, False,  True]])"
            ]
          },
          "metadata": {
            "tags": []
          },
          "execution_count": 88
        }
      ]
    },
    {
      "cell_type": "code",
      "metadata": {
        "id": "ed17ygWzbh6T",
        "colab_type": "code",
        "colab": {
          "base_uri": "https://localhost:8080/",
          "height": 68
        },
        "outputId": "516b34b2-7593-4a6f-9801-f7c01a535945"
      },
      "source": [
        "np.fromfunction(lambda i, j: i * j, (3, 3), dtype=int)"
      ],
      "execution_count": 89,
      "outputs": [
        {
          "output_type": "execute_result",
          "data": {
            "text/plain": [
              "array([[0, 0, 0],\n",
              "       [0, 1, 2],\n",
              "       [0, 2, 4]])"
            ]
          },
          "metadata": {
            "tags": []
          },
          "execution_count": 89
        }
      ]
    },
    {
      "cell_type": "code",
      "metadata": {
        "id": "IzWUlOdAqQ_m",
        "colab_type": "code",
        "colab": {
          "base_uri": "https://localhost:8080/",
          "height": 204
        },
        "outputId": "b76a97e3-7882-4ddd-d320-163a0e772560"
      },
      "source": [
        "np.fromfunction(lambda i, j, k: i * j * k, (3, 3, 3), dtype=int)"
      ],
      "execution_count": 91,
      "outputs": [
        {
          "output_type": "execute_result",
          "data": {
            "text/plain": [
              "array([[[0, 0, 0],\n",
              "        [0, 0, 0],\n",
              "        [0, 0, 0]],\n",
              "\n",
              "       [[0, 0, 0],\n",
              "        [0, 1, 2],\n",
              "        [0, 2, 4]],\n",
              "\n",
              "       [[0, 0, 0],\n",
              "        [0, 2, 4],\n",
              "        [0, 4, 8]]])"
            ]
          },
          "metadata": {
            "tags": []
          },
          "execution_count": 91
        }
      ]
    },
    {
      "cell_type": "code",
      "metadata": {
        "id": "mLGcGKHLrChf",
        "colab_type": "code",
        "colab": {
          "base_uri": "https://localhost:8080/",
          "height": 204
        },
        "outputId": "3ae45a43-c2eb-4f8b-ca21-e7235226c826"
      },
      "source": [
        "np.fromfunction(lambda i, j, k: i * j * k, (3, 3, 2), dtype=int)"
      ],
      "execution_count": 93,
      "outputs": [
        {
          "output_type": "execute_result",
          "data": {
            "text/plain": [
              "array([[[0, 0],\n",
              "        [0, 0],\n",
              "        [0, 0]],\n",
              "\n",
              "       [[0, 0],\n",
              "        [0, 1],\n",
              "        [0, 2]],\n",
              "\n",
              "       [[0, 0],\n",
              "        [0, 2],\n",
              "        [0, 4]]])"
            ]
          },
          "metadata": {
            "tags": []
          },
          "execution_count": 93
        }
      ]
    },
    {
      "cell_type": "code",
      "metadata": {
        "id": "joSpCywrrQbr",
        "colab_type": "code",
        "colab": {
          "base_uri": "https://localhost:8080/",
          "height": 493
        },
        "outputId": "b202774c-67a9-44d5-a7a0-b4adfa8f42bc"
      },
      "source": [
        "np.fromfunction(lambda i, j, k, m: i * j * k * m, (3, 3, 2, 2), dtype=int)"
      ],
      "execution_count": 94,
      "outputs": [
        {
          "output_type": "execute_result",
          "data": {
            "text/plain": [
              "array([[[[0, 0],\n",
              "         [0, 0]],\n",
              "\n",
              "        [[0, 0],\n",
              "         [0, 0]],\n",
              "\n",
              "        [[0, 0],\n",
              "         [0, 0]]],\n",
              "\n",
              "\n",
              "       [[[0, 0],\n",
              "         [0, 0]],\n",
              "\n",
              "        [[0, 0],\n",
              "         [0, 1]],\n",
              "\n",
              "        [[0, 0],\n",
              "         [0, 2]]],\n",
              "\n",
              "\n",
              "       [[[0, 0],\n",
              "         [0, 0]],\n",
              "\n",
              "        [[0, 0],\n",
              "         [0, 2]],\n",
              "\n",
              "        [[0, 0],\n",
              "         [0, 4]]]])"
            ]
          },
          "metadata": {
            "tags": []
          },
          "execution_count": 94
        }
      ]
    },
    {
      "cell_type": "code",
      "metadata": {
        "id": "gVKM5Dhxrx8B",
        "colab_type": "code",
        "colab": {
          "base_uri": "https://localhost:8080/",
          "height": 204
        },
        "outputId": "8b39323d-4a63-4c06-b300-562d9ae1078d"
      },
      "source": [
        "a  = np.fromfunction(lambda i, j, k: i * j * k, (3, 3, 2), dtype=int)\n",
        "a"
      ],
      "execution_count": 95,
      "outputs": [
        {
          "output_type": "execute_result",
          "data": {
            "text/plain": [
              "array([[[0, 0],\n",
              "        [0, 0],\n",
              "        [0, 0]],\n",
              "\n",
              "       [[0, 0],\n",
              "        [0, 1],\n",
              "        [0, 2]],\n",
              "\n",
              "       [[0, 0],\n",
              "        [0, 2],\n",
              "        [0, 4]]])"
            ]
          },
          "metadata": {
            "tags": []
          },
          "execution_count": 95
        }
      ]
    },
    {
      "cell_type": "code",
      "metadata": {
        "id": "ZxoF094pryHa",
        "colab_type": "code",
        "colab": {
          "base_uri": "https://localhost:8080/",
          "height": 68
        },
        "outputId": "b2532352-da80-455f-d589-5fc5b554b343"
      },
      "source": [
        "a[2]"
      ],
      "execution_count": 96,
      "outputs": [
        {
          "output_type": "execute_result",
          "data": {
            "text/plain": [
              "array([[0, 0],\n",
              "       [0, 2],\n",
              "       [0, 4]])"
            ]
          },
          "metadata": {
            "tags": []
          },
          "execution_count": 96
        }
      ]
    },
    {
      "cell_type": "code",
      "metadata": {
        "id": "dK8nS5O1ryxT",
        "colab_type": "code",
        "colab": {
          "base_uri": "https://localhost:8080/",
          "height": 34
        },
        "outputId": "0ad676c4-faba-4abb-fc5b-24e3fa69223e"
      },
      "source": [
        "a[2][2]"
      ],
      "execution_count": 97,
      "outputs": [
        {
          "output_type": "execute_result",
          "data": {
            "text/plain": [
              "array([0, 4])"
            ]
          },
          "metadata": {
            "tags": []
          },
          "execution_count": 97
        }
      ]
    },
    {
      "cell_type": "code",
      "metadata": {
        "id": "uG-BxFnzry6f",
        "colab_type": "code",
        "colab": {
          "base_uri": "https://localhost:8080/",
          "height": 34
        },
        "outputId": "0a372b4d-3794-4063-8699-54e0f3028125"
      },
      "source": [
        "a[2][2][1]"
      ],
      "execution_count": 98,
      "outputs": [
        {
          "output_type": "execute_result",
          "data": {
            "text/plain": [
              "4"
            ]
          },
          "metadata": {
            "tags": []
          },
          "execution_count": 98
        }
      ]
    },
    {
      "cell_type": "code",
      "metadata": {
        "id": "xyX1gbeipwQA",
        "colab_type": "code",
        "colab": {
          "base_uri": "https://localhost:8080/",
          "height": 136
        },
        "outputId": "4e261419-2666-4284-d97d-d446b898550b"
      },
      "source": [
        "np.fromfunction(lambda i, j: i / j, (3, 3), dtype=int)"
      ],
      "execution_count": 90,
      "outputs": [
        {
          "output_type": "stream",
          "text": [
            "/usr/local/lib/python3.6/dist-packages/ipykernel_launcher.py:1: RuntimeWarning: divide by zero encountered in true_divide\n",
            "  \"\"\"Entry point for launching an IPython kernel.\n",
            "/usr/local/lib/python3.6/dist-packages/ipykernel_launcher.py:1: RuntimeWarning: invalid value encountered in true_divide\n",
            "  \"\"\"Entry point for launching an IPython kernel.\n"
          ],
          "name": "stderr"
        },
        {
          "output_type": "execute_result",
          "data": {
            "text/plain": [
              "array([[nan, 0. , 0. ],\n",
              "       [inf, 1. , 0.5],\n",
              "       [inf, 2. , 1. ]])"
            ]
          },
          "metadata": {
            "tags": []
          },
          "execution_count": 90
        }
      ]
    },
    {
      "cell_type": "code",
      "metadata": {
        "id": "WOEBdA6Hbh6V",
        "colab_type": "code",
        "colab": {}
      },
      "source": [
        "#Create a new 1-dimensional array from an iterable object."
      ],
      "execution_count": null,
      "outputs": []
    },
    {
      "cell_type": "code",
      "metadata": {
        "id": "UYtrvx0vrx1Q",
        "colab_type": "code",
        "colab": {
          "base_uri": "https://localhost:8080/",
          "height": 153
        },
        "outputId": "a44da790-f276-4ab8-9791-a535408bf277"
      },
      "source": [
        "l = [1,2,3,4,5,6,7,8]\n",
        "for i in l:\n",
        "  print(i)"
      ],
      "execution_count": 103,
      "outputs": [
        {
          "output_type": "stream",
          "text": [
            "1\n",
            "2\n",
            "3\n",
            "4\n",
            "5\n",
            "6\n",
            "7\n",
            "8\n"
          ],
          "name": "stdout"
        }
      ]
    },
    {
      "cell_type": "code",
      "metadata": {
        "id": "ircW66I-rx4I",
        "colab_type": "code",
        "colab": {
          "base_uri": "https://localhost:8080/",
          "height": 102
        },
        "outputId": "e5b8c981-7533-4513-e197-2285d4bc5085"
      },
      "source": [
        "for x in range(5):\n",
        "  print(x)"
      ],
      "execution_count": 104,
      "outputs": [
        {
          "output_type": "stream",
          "text": [
            "0\n",
            "1\n",
            "2\n",
            "3\n",
            "4\n"
          ],
          "name": "stdout"
        }
      ]
    },
    {
      "cell_type": "code",
      "metadata": {
        "id": "TM34IWV9bh6b",
        "colab_type": "code",
        "colab": {
          "base_uri": "https://localhost:8080/",
          "height": 34
        },
        "outputId": "ec5d0c5f-07fe-4875-975c-b3e063724a80"
      },
      "source": [
        "iterable = (x*x for x in range(5))\n",
        "iterable"
      ],
      "execution_count": 105,
      "outputs": [
        {
          "output_type": "execute_result",
          "data": {
            "text/plain": [
              "<generator object <genexpr> at 0x7f8089607570>"
            ]
          },
          "metadata": {
            "tags": []
          },
          "execution_count": 105
        }
      ]
    },
    {
      "cell_type": "code",
      "metadata": {
        "id": "J18L37ZZt1Ck",
        "colab_type": "code",
        "colab": {}
      },
      "source": [
        ""
      ],
      "execution_count": null,
      "outputs": []
    },
    {
      "cell_type": "code",
      "metadata": {
        "id": "514R_WkFt1E3",
        "colab_type": "code",
        "colab": {}
      },
      "source": [
        ""
      ],
      "execution_count": null,
      "outputs": []
    },
    {
      "cell_type": "code",
      "metadata": {
        "id": "WMtJ5F9hbh6e",
        "colab_type": "code",
        "colab": {
          "base_uri": "https://localhost:8080/",
          "height": 34
        },
        "outputId": "b57a59fd-db08-44c3-e11d-60be2fbb35ba"
      },
      "source": [
        "np.fromiter(iterable, float)"
      ],
      "execution_count": 106,
      "outputs": [
        {
          "output_type": "execute_result",
          "data": {
            "text/plain": [
              "array([ 0.,  1.,  4.,  9., 16.])"
            ]
          },
          "metadata": {
            "tags": []
          },
          "execution_count": 106
        }
      ]
    },
    {
      "cell_type": "code",
      "metadata": {
        "id": "pRumJl_cbh6h",
        "colab_type": "code",
        "colab": {}
      },
      "source": [
        "#A new 1-D array initialized from text data in a string"
      ],
      "execution_count": null,
      "outputs": []
    },
    {
      "cell_type": "code",
      "metadata": {
        "id": "btiaNGOdbh6k",
        "colab_type": "code",
        "colab": {
          "base_uri": "https://localhost:8080/",
          "height": 34
        },
        "outputId": "ad670993-b2ff-4de9-d42c-da10848e32f7"
      },
      "source": [
        "a = np.fromstring('234 234',sep=' ')\n",
        "a"
      ],
      "execution_count": 107,
      "outputs": [
        {
          "output_type": "execute_result",
          "data": {
            "text/plain": [
              "array([234., 234.])"
            ]
          },
          "metadata": {
            "tags": []
          },
          "execution_count": 107
        }
      ]
    },
    {
      "cell_type": "code",
      "metadata": {
        "id": "JqmFq2T0bh6m",
        "colab_type": "code",
        "colab": {},
        "outputId": "bc79ac09-51be-4108-b023-8202a5443786"
      },
      "source": [
        "np.fromstring('1, 2', dtype=int, sep=',')"
      ],
      "execution_count": null,
      "outputs": [
        {
          "output_type": "execute_result",
          "data": {
            "text/plain": [
              "array([1, 2])"
            ]
          },
          "metadata": {
            "tags": []
          },
          "execution_count": 102
        }
      ]
    },
    {
      "cell_type": "code",
      "metadata": {
        "id": "XIQk5ccsbh6o",
        "colab_type": "code",
        "colab": {}
      },
      "source": [
        "# How to create create a record array from a (flat) list of arrays"
      ],
      "execution_count": null,
      "outputs": []
    },
    {
      "cell_type": "code",
      "metadata": {
        "id": "Hi6sHavUbh6q",
        "colab_type": "code",
        "colab": {}
      },
      "source": [
        "x1=np.array([1,2,3,4])"
      ],
      "execution_count": 108,
      "outputs": []
    },
    {
      "cell_type": "code",
      "metadata": {
        "id": "YhYDftDsbh6t",
        "colab_type": "code",
        "colab": {}
      },
      "source": [
        "x2=np.array(['a','dd','xyz','12'])"
      ],
      "execution_count": 109,
      "outputs": []
    },
    {
      "cell_type": "code",
      "metadata": {
        "id": "Nbij-bGJbh6v",
        "colab_type": "code",
        "colab": {
          "base_uri": "https://localhost:8080/",
          "height": 34
        },
        "outputId": "b9d8da5b-6f3b-4ae3-bcc0-0158a28059f2"
      },
      "source": [
        "x3=np.array([1.1,2,3,4])\n",
        "x4=np.array([1.1,2,3,4])\n",
        "type(x4)"
      ],
      "execution_count": 110,
      "outputs": [
        {
          "output_type": "execute_result",
          "data": {
            "text/plain": [
              "numpy.ndarray"
            ]
          },
          "metadata": {
            "tags": []
          },
          "execution_count": 110
        }
      ]
    },
    {
      "cell_type": "code",
      "metadata": {
        "id": "UsTIARoTt08f",
        "colab_type": "code",
        "colab": {
          "base_uri": "https://localhost:8080/",
          "height": 68
        },
        "outputId": "2eb84702-8ae6-4087-f19e-451fb6fe46e5"
      },
      "source": [
        "r = np.core.records.fromarrays([x1,x2,x3,x4]) # i4 = integer, U3 = string, f8 = float\n",
        "r"
      ],
      "execution_count": 111,
      "outputs": [
        {
          "output_type": "execute_result",
          "data": {
            "text/plain": [
              "rec.array([(1, 'a', 1.1, 1.1), (2, 'dd', 2. , 2. ), (3, 'xyz', 3. , 3. ),\n",
              "           (4, '12', 4. , 4. )],\n",
              "          dtype=[('f0', '<i8'), ('f1', '<U3'), ('f2', '<f8'), ('f3', '<f8')])"
            ]
          },
          "metadata": {
            "tags": []
          },
          "execution_count": 111
        }
      ]
    },
    {
      "cell_type": "code",
      "metadata": {
        "id": "qf-pPDc9bh6y",
        "colab_type": "code",
        "colab": {},
        "outputId": "1f40ed37-4a48-4bf9-f8f5-2a36157b4972"
      },
      "source": [
        "r = np.core.records.fromarrays([x1,x2,x3,x4],names='a,b,c,d')\n",
        "r"
      ],
      "execution_count": null,
      "outputs": [
        {
          "output_type": "execute_result",
          "data": {
            "text/plain": [
              "rec.array([(1, 'a', 1.1, 1.1), (2, 'dd', 2. , 2. ), (3, 'xyz', 3. , 3. ),\n",
              "           (4, '12', 4. , 4. )],\n",
              "          dtype=[('a', '<i8'), ('b', '<U3'), ('c', '<f8'), ('d', '<f8')])"
            ]
          },
          "metadata": {
            "tags": []
          },
          "execution_count": 118
        }
      ]
    },
    {
      "cell_type": "code",
      "metadata": {
        "id": "-BBcQNIwvku0",
        "colab_type": "code",
        "colab": {
          "base_uri": "https://localhost:8080/",
          "height": 34
        },
        "outputId": "c15f4067-e76f-49f2-e046-c243b1880927"
      },
      "source": [
        "r[1]"
      ],
      "execution_count": 112,
      "outputs": [
        {
          "output_type": "execute_result",
          "data": {
            "text/plain": [
              "(2, 'dd', 2., 2.)"
            ]
          },
          "metadata": {
            "tags": []
          },
          "execution_count": 112
        }
      ]
    },
    {
      "cell_type": "code",
      "metadata": {
        "id": "XKY5OfnTvm0Y",
        "colab_type": "code",
        "colab": {
          "base_uri": "https://localhost:8080/",
          "height": 35
        },
        "outputId": "fda1759d-90d1-4710-f539-5a5438eb2949"
      },
      "source": [
        "r[1][1]"
      ],
      "execution_count": 113,
      "outputs": [
        {
          "output_type": "execute_result",
          "data": {
            "application/vnd.google.colaboratory.intrinsic+json": {
              "type": "string"
            },
            "text/plain": [
              "'dd'"
            ]
          },
          "metadata": {
            "tags": []
          },
          "execution_count": 113
        }
      ]
    },
    {
      "cell_type": "code",
      "metadata": {
        "id": "vGEY58sPbh60",
        "colab_type": "code",
        "colab": {},
        "outputId": "f155a29b-686d-422a-f03a-69247791f1ee"
      },
      "source": [
        "print(r[1][\"a\"])"
      ],
      "execution_count": null,
      "outputs": [
        {
          "output_type": "stream",
          "text": [
            "2\n"
          ],
          "name": "stdout"
        }
      ]
    },
    {
      "cell_type": "markdown",
      "metadata": {
        "id": "CKSF4k3Obh62",
        "colab_type": "raw"
      },
      "source": [
        "x1[1]=34"
      ]
    },
    {
      "cell_type": "code",
      "metadata": {
        "id": "AnHYFMnobh62",
        "colab_type": "code",
        "colab": {},
        "outputId": "d7d84ef6-f1df-4edf-c304-2b17f7170569"
      },
      "source": [
        "x1[1]"
      ],
      "execution_count": null,
      "outputs": [
        {
          "output_type": "execute_result",
          "data": {
            "text/plain": [
              "2"
            ]
          },
          "metadata": {
            "tags": []
          },
          "execution_count": 130
        }
      ]
    },
    {
      "cell_type": "markdown",
      "metadata": {
        "id": "ptqLF5hNbh64",
        "colab_type": "text"
      },
      "source": [
        "# data types"
      ]
    },
    {
      "cell_type": "code",
      "metadata": {
        "id": "qgLlckwLbh65",
        "colab_type": "code",
        "colab": {
          "base_uri": "https://localhost:8080/",
          "height": 85
        },
        "outputId": "9eba4450-6591-41a5-f872-cfa37a8f7533"
      },
      "source": [
        "my_list = [1,2,3]\n",
        "import numpy as np\n",
        "arr = np.array(my_list)\n",
        "print(\"Type/Class of this object:\",type(arr))\n",
        "print(\"Here is the vector\\n--------------------\\n\",arr)"
      ],
      "execution_count": 114,
      "outputs": [
        {
          "output_type": "stream",
          "text": [
            "Type/Class of this object: <class 'numpy.ndarray'>\n",
            "Here is the vector\n",
            "--------------------\n",
            " [1 2 3]\n"
          ],
          "name": "stdout"
        }
      ]
    },
    {
      "cell_type": "code",
      "metadata": {
        "id": "Jw-ujxfivva9",
        "colab_type": "code",
        "colab": {}
      },
      "source": [
        "l = np.array([2,3,4,5,6])\n",
        "a = np.array(l)"
      ],
      "execution_count": 116,
      "outputs": []
    },
    {
      "cell_type": "code",
      "metadata": {
        "id": "imF6--GKvvYd",
        "colab_type": "code",
        "colab": {
          "base_uri": "https://localhost:8080/",
          "height": 51
        },
        "outputId": "ac4ae8db-4f82-4a05-b2e4-2b012ced61fd"
      },
      "source": [
        "b = np.array([[3,4,5],[6,7,8]])\n",
        "b"
      ],
      "execution_count": 117,
      "outputs": [
        {
          "output_type": "execute_result",
          "data": {
            "text/plain": [
              "array([[3, 4, 5],\n",
              "       [6, 7, 8]])"
            ]
          },
          "metadata": {
            "tags": []
          },
          "execution_count": 117
        }
      ]
    },
    {
      "cell_type": "code",
      "metadata": {
        "id": "bJI1sH-LvvUq",
        "colab_type": "code",
        "colab": {
          "base_uri": "https://localhost:8080/",
          "height": 34
        },
        "outputId": "83df6271-6203-405c-be86-01c310ff9601"
      },
      "source": [
        "a.ndim"
      ],
      "execution_count": 118,
      "outputs": [
        {
          "output_type": "execute_result",
          "data": {
            "text/plain": [
              "1"
            ]
          },
          "metadata": {
            "tags": []
          },
          "execution_count": 118
        }
      ]
    },
    {
      "cell_type": "code",
      "metadata": {
        "id": "FK221hipvvRY",
        "colab_type": "code",
        "colab": {
          "base_uri": "https://localhost:8080/",
          "height": 34
        },
        "outputId": "28c17717-ea24-490e-b8c9-31b31abad6f9"
      },
      "source": [
        "b.ndim"
      ],
      "execution_count": 119,
      "outputs": [
        {
          "output_type": "execute_result",
          "data": {
            "text/plain": [
              "2"
            ]
          },
          "metadata": {
            "tags": []
          },
          "execution_count": 119
        }
      ]
    },
    {
      "cell_type": "code",
      "metadata": {
        "id": "LG4GO-0xwN7S",
        "colab_type": "code",
        "colab": {
          "base_uri": "https://localhost:8080/",
          "height": 34
        },
        "outputId": "65aa18e5-4539-4fe0-9bff-8a5ae03f394c"
      },
      "source": [
        "a.size"
      ],
      "execution_count": 120,
      "outputs": [
        {
          "output_type": "execute_result",
          "data": {
            "text/plain": [
              "5"
            ]
          },
          "metadata": {
            "tags": []
          },
          "execution_count": 120
        }
      ]
    },
    {
      "cell_type": "code",
      "metadata": {
        "id": "BR2wLZrrwOSL",
        "colab_type": "code",
        "colab": {
          "base_uri": "https://localhost:8080/",
          "height": 34
        },
        "outputId": "c0347753-323b-46d3-d0c4-a64380308457"
      },
      "source": [
        "b.size"
      ],
      "execution_count": 121,
      "outputs": [
        {
          "output_type": "execute_result",
          "data": {
            "text/plain": [
              "6"
            ]
          },
          "metadata": {
            "tags": []
          },
          "execution_count": 121
        }
      ]
    },
    {
      "cell_type": "code",
      "metadata": {
        "id": "cX_XL55VwN3A",
        "colab_type": "code",
        "colab": {
          "base_uri": "https://localhost:8080/",
          "height": 34
        },
        "outputId": "50ac0b98-009e-452d-a0d0-ad9342d3cf87"
      },
      "source": [
        "a.shape"
      ],
      "execution_count": 122,
      "outputs": [
        {
          "output_type": "execute_result",
          "data": {
            "text/plain": [
              "(5,)"
            ]
          },
          "metadata": {
            "tags": []
          },
          "execution_count": 122
        }
      ]
    },
    {
      "cell_type": "code",
      "metadata": {
        "id": "iumJao-7wU0Z",
        "colab_type": "code",
        "colab": {
          "base_uri": "https://localhost:8080/",
          "height": 34
        },
        "outputId": "425df75c-122e-4c67-dffa-e193bbe1d13c"
      },
      "source": [
        "b.shape # row = 2, column = 3"
      ],
      "execution_count": 123,
      "outputs": [
        {
          "output_type": "execute_result",
          "data": {
            "text/plain": [
              "(2, 3)"
            ]
          },
          "metadata": {
            "tags": []
          },
          "execution_count": 123
        }
      ]
    },
    {
      "cell_type": "code",
      "metadata": {
        "id": "fzG-4yaEwefZ",
        "colab_type": "code",
        "colab": {
          "base_uri": "https://localhost:8080/",
          "height": 34
        },
        "outputId": "d5618973-7319-470b-eea4-c236c8482242"
      },
      "source": [
        "a.dtype"
      ],
      "execution_count": 124,
      "outputs": [
        {
          "output_type": "execute_result",
          "data": {
            "text/plain": [
              "dtype('int64')"
            ]
          },
          "metadata": {
            "tags": []
          },
          "execution_count": 124
        }
      ]
    },
    {
      "cell_type": "code",
      "metadata": {
        "id": "OeTiuI6nwemm",
        "colab_type": "code",
        "colab": {
          "base_uri": "https://localhost:8080/",
          "height": 34
        },
        "outputId": "a6c2b2e6-149e-4a29-9a05-2edbb3747758"
      },
      "source": [
        "b.dtype"
      ],
      "execution_count": 125,
      "outputs": [
        {
          "output_type": "execute_result",
          "data": {
            "text/plain": [
              "dtype('int64')"
            ]
          },
          "metadata": {
            "tags": []
          },
          "execution_count": 125
        }
      ]
    },
    {
      "cell_type": "code",
      "metadata": {
        "id": "J4-jJau8bh68",
        "colab_type": "code",
        "colab": {
          "base_uri": "https://localhost:8080/",
          "height": 204
        },
        "outputId": "afd879e0-1881-43af-84ca-38fd54be2272"
      },
      "source": [
        "my_mat = [[1,2,3],[4,5,6],[7,8,9]]\n",
        "mat = np.array(my_mat)\n",
        "print(\"Type/Class of this object:\",type(mat))\n",
        "print(\"Here is the matrix\\n----------\\n\",mat,\"\\n----------\")\n",
        "print(\"Dimension of this matrix: \",mat.ndim,sep='') #ndim gives the dimensison, 2 for a matrix, 1 for a vector\n",
        "print(\"Size of this matrix: \", mat.size,sep='') #size gives the total number of elements\n",
        "print(\"Shape of this matrix: \", mat.shape,sep='') #shape gives the number of elements along each axes (dimension)\n",
        "print(\"Data type of this matrix: \", mat.dtype,sep='') #dtype gives the data type contained in the array\n"
      ],
      "execution_count": 126,
      "outputs": [
        {
          "output_type": "stream",
          "text": [
            "Type/Class of this object: <class 'numpy.ndarray'>\n",
            "Here is the matrix\n",
            "----------\n",
            " [[1 2 3]\n",
            " [4 5 6]\n",
            " [7 8 9]] \n",
            "----------\n",
            "Dimension of this matrix: 2\n",
            "Size of this matrix: 9\n",
            "Shape of this matrix: (3, 3)\n",
            "Data type of this matrix: int64\n"
          ],
          "name": "stdout"
        }
      ]
    },
    {
      "cell_type": "code",
      "metadata": {
        "id": "pDIsjN2fbh6_",
        "colab_type": "code",
        "colab": {
          "base_uri": "https://localhost:8080/",
          "height": 85
        },
        "outputId": "1d2a6ac1-c8c1-4c65-84b3-9ae60c46d754"
      },
      "source": [
        "my_mat = [[1.1,2,3],[4,5.2,6],[7,8.3,9]]\n",
        "mat = np.array(my_mat)\n",
        "print(\"Data type of the modified matrix: \", mat.dtype,sep='') #dtype gives the data type contained in the array\n",
        "print(\"\\n\\nEven tuples can be converted to ndarrays...\")\n"
      ],
      "execution_count": 127,
      "outputs": [
        {
          "output_type": "stream",
          "text": [
            "Data type of the modified matrix: float64\n",
            "\n",
            "\n",
            "Even tuples can be converted to ndarrays...\n"
          ],
          "name": "stdout"
        }
      ]
    },
    {
      "cell_type": "code",
      "metadata": {
        "id": "Wfnlu4Bzbh7B",
        "colab_type": "code",
        "colab": {
          "base_uri": "https://localhost:8080/",
          "height": 102
        },
        "outputId": "f7c758e2-422e-4338-e176-a6d3b8adaeb9"
      },
      "source": [
        "b = np.array([(1.5,2,3), (4,5,6)])\n",
        "print(\"We write b = np.array([(1.5,2,3), (4,5,6)])\")\n",
        "print(\"Matrix made from tuples, not lists\\n---------------------------------------\")\n",
        "print(b)"
      ],
      "execution_count": 128,
      "outputs": [
        {
          "output_type": "stream",
          "text": [
            "We write b = np.array([(1.5,2,3), (4,5,6)])\n",
            "Matrix made from tuples, not lists\n",
            "---------------------------------------\n",
            "[[1.5 2.  3. ]\n",
            " [4.  5.  6. ]]\n"
          ],
          "name": "stdout"
        }
      ]
    },
    {
      "cell_type": "markdown",
      "metadata": {
        "id": "J9LBq_XFbh7E",
        "colab_type": "text"
      },
      "source": [
        "# arange and linspace"
      ]
    },
    {
      "cell_type": "code",
      "metadata": {
        "id": "PPLmy1mqwxiH",
        "colab_type": "code",
        "colab": {
          "base_uri": "https://localhost:8080/",
          "height": 34
        },
        "outputId": "ff0ed14c-174a-4726-92aa-5b053fec7e62"
      },
      "source": [
        "range(5)"
      ],
      "execution_count": 129,
      "outputs": [
        {
          "output_type": "execute_result",
          "data": {
            "text/plain": [
              "range(0, 5)"
            ]
          },
          "metadata": {
            "tags": []
          },
          "execution_count": 129
        }
      ]
    },
    {
      "cell_type": "code",
      "metadata": {
        "id": "HizJy5Luwxed",
        "colab_type": "code",
        "colab": {
          "base_uri": "https://localhost:8080/",
          "height": 34
        },
        "outputId": "9fa89bac-dbdc-442c-f34e-6a7b4fe7ca08"
      },
      "source": [
        "list(range(5))"
      ],
      "execution_count": 130,
      "outputs": [
        {
          "output_type": "execute_result",
          "data": {
            "text/plain": [
              "[0, 1, 2, 3, 4]"
            ]
          },
          "metadata": {
            "tags": []
          },
          "execution_count": 130
        }
      ]
    },
    {
      "cell_type": "code",
      "metadata": {
        "id": "JLoQxbIVwxa_",
        "colab_type": "code",
        "colab": {
          "base_uri": "https://localhost:8080/",
          "height": 34
        },
        "outputId": "b2876662-faeb-4051-da86-a606ce946e02"
      },
      "source": [
        "list(range(1,5))"
      ],
      "execution_count": 131,
      "outputs": [
        {
          "output_type": "execute_result",
          "data": {
            "text/plain": [
              "[1, 2, 3, 4]"
            ]
          },
          "metadata": {
            "tags": []
          },
          "execution_count": 131
        }
      ]
    },
    {
      "cell_type": "code",
      "metadata": {
        "id": "VCh5XWPtw682",
        "colab_type": "code",
        "colab": {
          "base_uri": "https://localhost:8080/",
          "height": 34
        },
        "outputId": "eea6ed6d-895a-420a-aa54-24f1503d6ed2"
      },
      "source": [
        "list(range(1,5,2)) # range is always going to take arguments as integer. It's not consider arguments as float"
      ],
      "execution_count": 132,
      "outputs": [
        {
          "output_type": "execute_result",
          "data": {
            "text/plain": [
              "[1, 3]"
            ]
          },
          "metadata": {
            "tags": []
          },
          "execution_count": 132
        }
      ]
    },
    {
      "cell_type": "code",
      "metadata": {
        "id": "CL0vJk-Aw64t",
        "colab_type": "code",
        "colab": {
          "base_uri": "https://localhost:8080/",
          "height": 34
        },
        "outputId": "7a6060bf-874a-47a0-9898-49ec13031411"
      },
      "source": [
        "np.arange(3,9)"
      ],
      "execution_count": 133,
      "outputs": [
        {
          "output_type": "execute_result",
          "data": {
            "text/plain": [
              "array([3, 4, 5, 6, 7, 8])"
            ]
          },
          "metadata": {
            "tags": []
          },
          "execution_count": 133
        }
      ]
    },
    {
      "cell_type": "code",
      "metadata": {
        "id": "zTA-PXy5xTtd",
        "colab_type": "code",
        "colab": {
          "base_uri": "https://localhost:8080/",
          "height": 68
        },
        "outputId": "115bae83-5322-4e76-99df-0f200dc29491"
      },
      "source": [
        "np.arange(3.5,9,.2) # arange function is going to take floating arguments whereas range is only going to consider integer"
      ],
      "execution_count": 134,
      "outputs": [
        {
          "output_type": "execute_result",
          "data": {
            "text/plain": [
              "array([3.5, 3.7, 3.9, 4.1, 4.3, 4.5, 4.7, 4.9, 5.1, 5.3, 5.5, 5.7, 5.9,\n",
              "       6.1, 6.3, 6.5, 6.7, 6.9, 7.1, 7.3, 7.5, 7.7, 7.9, 8.1, 8.3, 8.5,\n",
              "       8.7, 8.9])"
            ]
          },
          "metadata": {
            "tags": []
          },
          "execution_count": 134
        }
      ]
    },
    {
      "cell_type": "code",
      "metadata": {
        "id": "34m0eAxDxUMI",
        "colab_type": "code",
        "colab": {}
      },
      "source": [
        ""
      ],
      "execution_count": null,
      "outputs": []
    },
    {
      "cell_type": "code",
      "metadata": {
        "id": "gxWe7jx0bh7E",
        "colab_type": "code",
        "colab": {
          "base_uri": "https://localhost:8080/",
          "height": 51
        },
        "outputId": "877ede0b-cd8b-4c3a-d7f8-9d893073ef5e"
      },
      "source": [
        "print(\"A series of numbers:\",type(np.arange(5,16)))\n",
        "np.arange(5,16,2.3)# A series of numbers from low to high"
      ],
      "execution_count": 135,
      "outputs": [
        {
          "output_type": "stream",
          "text": [
            "A series of numbers: <class 'numpy.ndarray'>\n"
          ],
          "name": "stdout"
        },
        {
          "output_type": "execute_result",
          "data": {
            "text/plain": [
              "array([ 5. ,  7.3,  9.6, 11.9, 14.2])"
            ]
          },
          "metadata": {
            "tags": []
          },
          "execution_count": 135
        }
      ]
    },
    {
      "cell_type": "code",
      "metadata": {
        "id": "9WRTk7tubh7J",
        "colab_type": "code",
        "colab": {
          "base_uri": "https://localhost:8080/",
          "height": 34
        },
        "outputId": "702be716-9478-40b9-b740-cf78ef1d56b2"
      },
      "source": [
        "list(range(5,16,2))"
      ],
      "execution_count": 136,
      "outputs": [
        {
          "output_type": "execute_result",
          "data": {
            "text/plain": [
              "[5, 7, 9, 11, 13, 15]"
            ]
          },
          "metadata": {
            "tags": []
          },
          "execution_count": 136
        }
      ]
    },
    {
      "cell_type": "code",
      "metadata": {
        "id": "DscdQsEUbh7O",
        "colab_type": "code",
        "colab": {
          "base_uri": "https://localhost:8080/",
          "height": 34
        },
        "outputId": "f2ea2ca1-f552-48de-cb43-7dfdfe0265bc"
      },
      "source": [
        "list(range(50,-1,5))"
      ],
      "execution_count": 137,
      "outputs": [
        {
          "output_type": "execute_result",
          "data": {
            "text/plain": [
              "[]"
            ]
          },
          "metadata": {
            "tags": []
          },
          "execution_count": 137
        }
      ]
    },
    {
      "cell_type": "code",
      "metadata": {
        "id": "ZG9jfEsdbh7R",
        "colab_type": "code",
        "colab": {
          "base_uri": "https://localhost:8080/",
          "height": 34
        },
        "outputId": "2210f0c0-8b98-4987-a03c-8fcf8af56586"
      },
      "source": [
        "print(\"Numbers spaced apart by 2:\",np.arange(50,-1,5)) # Numbers spaced apart by 2"
      ],
      "execution_count": 138,
      "outputs": [
        {
          "output_type": "stream",
          "text": [
            "Numbers spaced apart by 2: []\n"
          ],
          "name": "stdout"
        }
      ]
    },
    {
      "cell_type": "code",
      "metadata": {
        "id": "slT2Zgd2bh7U",
        "colab_type": "code",
        "colab": {
          "base_uri": "https://localhost:8080/",
          "height": 34
        },
        "outputId": "f844faca-5ed2-4ec7-b8aa-8ce2b628b8eb"
      },
      "source": [
        "print(\"Numbers spaced apart by float:\",np.arange(0,11,2.5)) # Numbers spaced apart by 2.5"
      ],
      "execution_count": 139,
      "outputs": [
        {
          "output_type": "stream",
          "text": [
            "Numbers spaced apart by float: [ 0.   2.5  5.   7.5 10. ]\n"
          ],
          "name": "stdout"
        }
      ]
    },
    {
      "cell_type": "code",
      "metadata": {
        "id": "5vmpshhPbh7X",
        "colab_type": "code",
        "colab": {
          "base_uri": "https://localhost:8080/",
          "height": 51
        },
        "outputId": "cb39fafc-41b5-4a83-bec6-7542917f78c4"
      },
      "source": [
        "print(\"Every 5th number from 50 in reverse order\\n\",np.arange(5.0,-1,-5))"
      ],
      "execution_count": 140,
      "outputs": [
        {
          "output_type": "stream",
          "text": [
            "Every 5th number from 50 in reverse order\n",
            " [5. 0.]\n"
          ],
          "name": "stdout"
        }
      ]
    },
    {
      "cell_type": "code",
      "metadata": {
        "id": "rqVbdrWXbh7a",
        "colab_type": "code",
        "colab": {
          "base_uri": "https://localhost:8080/",
          "height": 204
        },
        "outputId": "48c0674c-e574-4035-c689-855c92e02fec"
      },
      "source": [
        "print(\"21 linearly spaced numbers between 1 and 5\\n--------------------------------------------\")\n",
        "print((np.linspace(1,5,50)))"
      ],
      "execution_count": 141,
      "outputs": [
        {
          "output_type": "stream",
          "text": [
            "21 linearly spaced numbers between 1 and 5\n",
            "--------------------------------------------\n",
            "[1.         1.08163265 1.16326531 1.24489796 1.32653061 1.40816327\n",
            " 1.48979592 1.57142857 1.65306122 1.73469388 1.81632653 1.89795918\n",
            " 1.97959184 2.06122449 2.14285714 2.2244898  2.30612245 2.3877551\n",
            " 2.46938776 2.55102041 2.63265306 2.71428571 2.79591837 2.87755102\n",
            " 2.95918367 3.04081633 3.12244898 3.20408163 3.28571429 3.36734694\n",
            " 3.44897959 3.53061224 3.6122449  3.69387755 3.7755102  3.85714286\n",
            " 3.93877551 4.02040816 4.10204082 4.18367347 4.26530612 4.34693878\n",
            " 4.42857143 4.51020408 4.59183673 4.67346939 4.75510204 4.83673469\n",
            " 4.91836735 5.        ]\n"
          ],
          "name": "stdout"
        }
      ]
    },
    {
      "cell_type": "code",
      "metadata": {
        "id": "zWhwkAFpxsFW",
        "colab_type": "code",
        "colab": {
          "base_uri": "https://localhost:8080/",
          "height": 187
        },
        "outputId": "c4fc84a7-1d5f-4b51-acb7-9ca4ef6de42f"
      },
      "source": [
        "np.linspace(1,4)"
      ],
      "execution_count": 143,
      "outputs": [
        {
          "output_type": "execute_result",
          "data": {
            "text/plain": [
              "array([1.        , 1.06122449, 1.12244898, 1.18367347, 1.24489796,\n",
              "       1.30612245, 1.36734694, 1.42857143, 1.48979592, 1.55102041,\n",
              "       1.6122449 , 1.67346939, 1.73469388, 1.79591837, 1.85714286,\n",
              "       1.91836735, 1.97959184, 2.04081633, 2.10204082, 2.16326531,\n",
              "       2.2244898 , 2.28571429, 2.34693878, 2.40816327, 2.46938776,\n",
              "       2.53061224, 2.59183673, 2.65306122, 2.71428571, 2.7755102 ,\n",
              "       2.83673469, 2.89795918, 2.95918367, 3.02040816, 3.08163265,\n",
              "       3.14285714, 3.20408163, 3.26530612, 3.32653061, 3.3877551 ,\n",
              "       3.44897959, 3.51020408, 3.57142857, 3.63265306, 3.69387755,\n",
              "       3.75510204, 3.81632653, 3.87755102, 3.93877551, 4.        ])"
            ]
          },
          "metadata": {
            "tags": []
          },
          "execution_count": 143
        }
      ]
    },
    {
      "cell_type": "code",
      "metadata": {
        "id": "pM8b9sRxx19r",
        "colab_type": "code",
        "colab": {
          "base_uri": "https://localhost:8080/",
          "height": 34
        },
        "outputId": "5f373ce2-d1de-46d2-d4bd-45f886099f46"
      },
      "source": [
        "np.linspace(1,100,10)"
      ],
      "execution_count": 144,
      "outputs": [
        {
          "output_type": "execute_result",
          "data": {
            "text/plain": [
              "array([  1.,  12.,  23.,  34.,  45.,  56.,  67.,  78.,  89., 100.])"
            ]
          },
          "metadata": {
            "tags": []
          },
          "execution_count": 144
        }
      ]
    },
    {
      "cell_type": "code",
      "metadata": {
        "id": "U3fWgLeVx9S6",
        "colab_type": "code",
        "colab": {
          "base_uri": "https://localhost:8080/",
          "height": 187
        },
        "outputId": "79b0caa4-37a1-496c-a58b-0b22f6857300"
      },
      "source": [
        "np.linspace(1,100,100)"
      ],
      "execution_count": 145,
      "outputs": [
        {
          "output_type": "execute_result",
          "data": {
            "text/plain": [
              "array([  1.,   2.,   3.,   4.,   5.,   6.,   7.,   8.,   9.,  10.,  11.,\n",
              "        12.,  13.,  14.,  15.,  16.,  17.,  18.,  19.,  20.,  21.,  22.,\n",
              "        23.,  24.,  25.,  26.,  27.,  28.,  29.,  30.,  31.,  32.,  33.,\n",
              "        34.,  35.,  36.,  37.,  38.,  39.,  40.,  41.,  42.,  43.,  44.,\n",
              "        45.,  46.,  47.,  48.,  49.,  50.,  51.,  52.,  53.,  54.,  55.,\n",
              "        56.,  57.,  58.,  59.,  60.,  61.,  62.,  63.,  64.,  65.,  66.,\n",
              "        67.,  68.,  69.,  70.,  71.,  72.,  73.,  74.,  75.,  76.,  77.,\n",
              "        78.,  79.,  80.,  81.,  82.,  83.,  84.,  85.,  86.,  87.,  88.,\n",
              "        89.,  90.,  91.,  92.,  93.,  94.,  95.,  96.,  97.,  98.,  99.,\n",
              "       100.])"
            ]
          },
          "metadata": {
            "tags": []
          },
          "execution_count": 145
        }
      ]
    },
    {
      "cell_type": "markdown",
      "metadata": {
        "id": "uI28F8MEbh7f",
        "colab_type": "text"
      },
      "source": [
        "# Matrix creation"
      ]
    },
    {
      "cell_type": "code",
      "metadata": {
        "id": "8GU_cIowbh7f",
        "colab_type": "code",
        "colab": {
          "base_uri": "https://localhost:8080/",
          "height": 68
        },
        "outputId": "07a77ac5-e80c-48fd-ae7a-fea3c45fbf0e"
      },
      "source": [
        "print(\"Vector of zeroes\\n---------------------\")\n",
        "print(np.zeros(5))"
      ],
      "execution_count": 146,
      "outputs": [
        {
          "output_type": "stream",
          "text": [
            "Vector of zeroes\n",
            "---------------------\n",
            "[0. 0. 0. 0. 0.]\n"
          ],
          "name": "stdout"
        }
      ]
    },
    {
      "cell_type": "code",
      "metadata": {
        "id": "hNwiMlmnyFHp",
        "colab_type": "code",
        "colab": {
          "base_uri": "https://localhost:8080/",
          "height": 34
        },
        "outputId": "ed0c2ee5-13a6-4d65-995c-e953306e7ec1"
      },
      "source": [
        "np.zeros(5)"
      ],
      "execution_count": 147,
      "outputs": [
        {
          "output_type": "execute_result",
          "data": {
            "text/plain": [
              "array([0., 0., 0., 0., 0.])"
            ]
          },
          "metadata": {
            "tags": []
          },
          "execution_count": 147
        }
      ]
    },
    {
      "cell_type": "code",
      "metadata": {
        "id": "bs1mPI8gyFDX",
        "colab_type": "code",
        "colab": {
          "base_uri": "https://localhost:8080/",
          "height": 102
        },
        "outputId": "17b54a31-8853-4217-d93c-89828d747e8a"
      },
      "source": [
        "np.zeros((5,5))"
      ],
      "execution_count": 148,
      "outputs": [
        {
          "output_type": "execute_result",
          "data": {
            "text/plain": [
              "array([[0., 0., 0., 0., 0.],\n",
              "       [0., 0., 0., 0., 0.],\n",
              "       [0., 0., 0., 0., 0.],\n",
              "       [0., 0., 0., 0., 0.],\n",
              "       [0., 0., 0., 0., 0.]])"
            ]
          },
          "metadata": {
            "tags": []
          },
          "execution_count": 148
        }
      ]
    },
    {
      "cell_type": "code",
      "metadata": {
        "id": "_jbhJntUyP11",
        "colab_type": "code",
        "colab": {
          "base_uri": "https://localhost:8080/",
          "height": 510
        },
        "outputId": "279390d6-f693-4506-85d6-6c43e43b6379"
      },
      "source": [
        "np.zeros((5,5,2))"
      ],
      "execution_count": 149,
      "outputs": [
        {
          "output_type": "execute_result",
          "data": {
            "text/plain": [
              "array([[[0., 0.],\n",
              "        [0., 0.],\n",
              "        [0., 0.],\n",
              "        [0., 0.],\n",
              "        [0., 0.]],\n",
              "\n",
              "       [[0., 0.],\n",
              "        [0., 0.],\n",
              "        [0., 0.],\n",
              "        [0., 0.],\n",
              "        [0., 0.]],\n",
              "\n",
              "       [[0., 0.],\n",
              "        [0., 0.],\n",
              "        [0., 0.],\n",
              "        [0., 0.],\n",
              "        [0., 0.]],\n",
              "\n",
              "       [[0., 0.],\n",
              "        [0., 0.],\n",
              "        [0., 0.],\n",
              "        [0., 0.],\n",
              "        [0., 0.]],\n",
              "\n",
              "       [[0., 0.],\n",
              "        [0., 0.],\n",
              "        [0., 0.],\n",
              "        [0., 0.],\n",
              "        [0., 0.]]])"
            ]
          },
          "metadata": {
            "tags": []
          },
          "execution_count": 149
        }
      ]
    },
    {
      "cell_type": "code",
      "metadata": {
        "id": "319W59Q-yPxo",
        "colab_type": "code",
        "colab": {}
      },
      "source": [
        ""
      ],
      "execution_count": null,
      "outputs": []
    },
    {
      "cell_type": "code",
      "metadata": {
        "id": "P53A81QIbh7j",
        "colab_type": "code",
        "colab": {
          "base_uri": "https://localhost:8080/",
          "height": 102
        },
        "outputId": "474f70d2-bdfd-4bcf-b39f-ccdae1be937c"
      },
      "source": [
        "print(\"Matrix of zeroes\\n--------------------\")\n",
        "print(np.zeros((3,4))) # Notice Tuples"
      ],
      "execution_count": 150,
      "outputs": [
        {
          "output_type": "stream",
          "text": [
            "Matrix of zeroes\n",
            "--------------------\n",
            "[[0. 0. 0. 0.]\n",
            " [0. 0. 0. 0.]\n",
            " [0. 0. 0. 0.]]\n"
          ],
          "name": "stdout"
        }
      ]
    },
    {
      "cell_type": "code",
      "metadata": {
        "id": "ekQdM_yabh7m",
        "colab_type": "code",
        "colab": {
          "base_uri": "https://localhost:8080/",
          "height": 68
        },
        "outputId": "461437a3-4810-44e9-d06e-7cc66131b4f1"
      },
      "source": [
        "print(\"Vector of ones\\n---------------------\")\n",
        "print(np.ones(5))"
      ],
      "execution_count": 151,
      "outputs": [
        {
          "output_type": "stream",
          "text": [
            "Vector of ones\n",
            "---------------------\n",
            "[1. 1. 1. 1. 1.]\n"
          ],
          "name": "stdout"
        }
      ]
    },
    {
      "cell_type": "code",
      "metadata": {
        "id": "6KxOrRz3bh7o",
        "colab_type": "code",
        "colab": {
          "base_uri": "https://localhost:8080/",
          "height": 289
        },
        "outputId": "cb1ac9ba-79bb-4c89-a79f-d1b41d43c2d9"
      },
      "source": [
        "print(\"Matrix of ones\\n---------------------\")\n",
        "print(np.ones((5,2,8))) # Note matrix dimension specified by Tuples\n",
        "# 5 such matrixes with row = 2 and columns = 8\n"
      ],
      "execution_count": 153,
      "outputs": [
        {
          "output_type": "stream",
          "text": [
            "Matrix of ones\n",
            "---------------------\n",
            "[[[1. 1. 1. 1. 1. 1. 1. 1.]\n",
            "  [1. 1. 1. 1. 1. 1. 1. 1.]]\n",
            "\n",
            " [[1. 1. 1. 1. 1. 1. 1. 1.]\n",
            "  [1. 1. 1. 1. 1. 1. 1. 1.]]\n",
            "\n",
            " [[1. 1. 1. 1. 1. 1. 1. 1.]\n",
            "  [1. 1. 1. 1. 1. 1. 1. 1.]]\n",
            "\n",
            " [[1. 1. 1. 1. 1. 1. 1. 1.]\n",
            "  [1. 1. 1. 1. 1. 1. 1. 1.]]\n",
            "\n",
            " [[1. 1. 1. 1. 1. 1. 1. 1.]\n",
            "  [1. 1. 1. 1. 1. 1. 1. 1.]]]\n"
          ],
          "name": "stdout"
        }
      ]
    },
    {
      "cell_type": "code",
      "metadata": {
        "id": "54STv44iyu_U",
        "colab_type": "code",
        "colab": {
          "base_uri": "https://localhost:8080/",
          "height": 68
        },
        "outputId": "639785bb-3118-440a-f0d2-6d07c326d503"
      },
      "source": [
        "np.ones((3,4))"
      ],
      "execution_count": 155,
      "outputs": [
        {
          "output_type": "execute_result",
          "data": {
            "text/plain": [
              "array([[1., 1., 1., 1.],\n",
              "       [1., 1., 1., 1.],\n",
              "       [1., 1., 1., 1.]])"
            ]
          },
          "metadata": {
            "tags": []
          },
          "execution_count": 155
        }
      ]
    },
    {
      "cell_type": "code",
      "metadata": {
        "id": "lHqOzzi0yu7d",
        "colab_type": "code",
        "colab": {
          "base_uri": "https://localhost:8080/",
          "height": 68
        },
        "outputId": "8c06008f-1d04-4300-cae1-84b8d554cf56"
      },
      "source": [
        "np.ones((3,4))+4"
      ],
      "execution_count": 157,
      "outputs": [
        {
          "output_type": "execute_result",
          "data": {
            "text/plain": [
              "array([[5., 5., 5., 5.],\n",
              "       [5., 5., 5., 5.],\n",
              "       [5., 5., 5., 5.]])"
            ]
          },
          "metadata": {
            "tags": []
          },
          "execution_count": 157
        }
      ]
    },
    {
      "cell_type": "code",
      "metadata": {
        "id": "En8JgFqty87U",
        "colab_type": "code",
        "colab": {
          "base_uri": "https://localhost:8080/",
          "height": 68
        },
        "outputId": "4c30c954-b30b-4836-d317-6d1d8ca33df7"
      },
      "source": [
        "np.ones((3,4))*3"
      ],
      "execution_count": 158,
      "outputs": [
        {
          "output_type": "execute_result",
          "data": {
            "text/plain": [
              "array([[3., 3., 3., 3.],\n",
              "       [3., 3., 3., 3.],\n",
              "       [3., 3., 3., 3.]])"
            ]
          },
          "metadata": {
            "tags": []
          },
          "execution_count": 158
        }
      ]
    },
    {
      "cell_type": "code",
      "metadata": {
        "id": "TTL97QkQy9K0",
        "colab_type": "code",
        "colab": {
          "base_uri": "https://localhost:8080/",
          "height": 51
        },
        "outputId": "13492e4d-062c-473c-c4e2-d619a308b366"
      },
      "source": [
        "np.empty((2,3))"
      ],
      "execution_count": 159,
      "outputs": [
        {
          "output_type": "execute_result",
          "data": {
            "text/plain": [
              "array([[1.5, 2. , 3. ],\n",
              "       [4. , 5. , 6. ]])"
            ]
          },
          "metadata": {
            "tags": []
          },
          "execution_count": 159
        }
      ]
    },
    {
      "cell_type": "code",
      "metadata": {
        "id": "dH2HCAaNbh7q",
        "colab_type": "code",
        "colab": {},
        "outputId": "f6e1912a-6af4-47e7-ab48-8ee8ac702795"
      },
      "source": [
        "print(\"Matrix of 5's\\n---------------------\")\n",
        "print(5+np.ones((3,5)))"
      ],
      "execution_count": null,
      "outputs": [
        {
          "output_type": "stream",
          "text": [
            "Matrix of 5's\n",
            "---------------------\n",
            "[[6. 6. 6. 6. 6.]\n",
            " [6. 6. 6. 6. 6.]\n",
            " [6. 6. 6. 6. 6.]]\n"
          ],
          "name": "stdout"
        }
      ]
    },
    {
      "cell_type": "code",
      "metadata": {
        "id": "hQJKp2JAbh7r",
        "colab_type": "code",
        "colab": {},
        "outputId": "4be7015a-916d-454e-d74b-0f3a0bebcc7a"
      },
      "source": [
        "print(\"Empty matrix\\n-------------\\n\", np.empty((3,5)))"
      ],
      "execution_count": null,
      "outputs": [
        {
          "output_type": "stream",
          "text": [
            "Empty matrix\n",
            "-------------\n",
            " [[6. 6. 6. 6. 6.]\n",
            " [6. 6. 6. 6. 6.]\n",
            " [6. 6. 6. 6. 6.]]\n"
          ],
          "name": "stdout"
        }
      ]
    },
    {
      "cell_type": "code",
      "metadata": {
        "scrolled": true,
        "id": "R-yWp4C7bh7u",
        "colab_type": "code",
        "colab": {},
        "outputId": "e2e04207-f7d4-486f-b689-37ee9938811d"
      },
      "source": [
        "mat1 = np.eye(4) \n",
        "print(\"Identity matrix of dimension\", mat1.shape)\n",
        "print(mat1)"
      ],
      "execution_count": null,
      "outputs": [
        {
          "output_type": "stream",
          "text": [
            "Identity matrix of dimension (4, 4)\n",
            "[[1. 0. 0. 0.]\n",
            " [0. 1. 0. 0.]\n",
            " [0. 0. 1. 0.]\n",
            " [0. 0. 0. 1.]]\n"
          ],
          "name": "stdout"
        }
      ]
    },
    {
      "cell_type": "code",
      "metadata": {
        "id": "3kF2nIalbh7y",
        "colab_type": "code",
        "colab": {},
        "outputId": "b3274abd-40b9-4768-ec2f-390e44acff01"
      },
      "source": [
        "np.arange(3)"
      ],
      "execution_count": null,
      "outputs": [
        {
          "output_type": "execute_result",
          "data": {
            "text/plain": [
              "array([0, 1, 2])"
            ]
          },
          "metadata": {
            "tags": []
          },
          "execution_count": 132
        }
      ]
    },
    {
      "cell_type": "code",
      "metadata": {
        "id": "9FmHu52Hbh70",
        "colab_type": "code",
        "colab": {},
        "outputId": "fcb46c8f-7bca-43a1-c3e6-8b53a2fa5fc2"
      },
      "source": [
        "np.arange(3.0)"
      ],
      "execution_count": null,
      "outputs": [
        {
          "output_type": "execute_result",
          "data": {
            "text/plain": [
              "array([0., 1., 2.])"
            ]
          },
          "metadata": {
            "tags": []
          },
          "execution_count": 80
        }
      ]
    },
    {
      "cell_type": "code",
      "metadata": {
        "id": "kjUWAJSDbh73",
        "colab_type": "code",
        "colab": {},
        "outputId": "797fa6c8-be27-4cea-a61f-f8d4b6665bdd"
      },
      "source": [
        " np.arange(3,7)"
      ],
      "execution_count": null,
      "outputs": [
        {
          "output_type": "execute_result",
          "data": {
            "text/plain": [
              "array([3, 4, 5, 6])"
            ]
          },
          "metadata": {
            "tags": []
          },
          "execution_count": 81
        }
      ]
    },
    {
      "cell_type": "code",
      "metadata": {
        "id": "xIlYPydnbh75",
        "colab_type": "code",
        "colab": {},
        "outputId": "5ed1ed61-77d6-42ea-a739-77629abf1f45"
      },
      "source": [
        "np.arange(3,7,2)"
      ],
      "execution_count": null,
      "outputs": [
        {
          "output_type": "execute_result",
          "data": {
            "text/plain": [
              "array([3, 5])"
            ]
          },
          "metadata": {
            "tags": []
          },
          "execution_count": 82
        }
      ]
    },
    {
      "cell_type": "code",
      "metadata": {
        "id": "M5dIriiWbh77",
        "colab_type": "code",
        "colab": {},
        "outputId": "357da539-5cd4-427a-d277-7828e61b2b37"
      },
      "source": [
        "np.linspace(2.0, 3.0, num=5)"
      ],
      "execution_count": null,
      "outputs": [
        {
          "output_type": "execute_result",
          "data": {
            "text/plain": [
              "array([2.  , 2.25, 2.5 , 2.75, 3.  ])"
            ]
          },
          "metadata": {
            "tags": []
          },
          "execution_count": 150
        }
      ]
    },
    {
      "cell_type": "code",
      "metadata": {
        "id": "Ti9LQxunbh7-",
        "colab_type": "code",
        "colab": {},
        "outputId": "2a0133e6-8656-4b3e-d86a-a9c5ea5f63a3"
      },
      "source": [
        "np.linspace(2.0, 3.0, num=5, endpoint=False)"
      ],
      "execution_count": null,
      "outputs": [
        {
          "output_type": "execute_result",
          "data": {
            "text/plain": [
              "array([2. , 2.2, 2.4, 2.6, 2.8])"
            ]
          },
          "metadata": {
            "tags": []
          },
          "execution_count": 151
        }
      ]
    },
    {
      "cell_type": "code",
      "metadata": {
        "id": "SsHMXkT4bh7_",
        "colab_type": "code",
        "colab": {},
        "outputId": "b516a987-271b-42b8-f2b7-bc6ea6d0d5dd"
      },
      "source": [
        "np.linspace(2.0, 3.0, num=9, retstep=True)"
      ],
      "execution_count": null,
      "outputs": [
        {
          "output_type": "execute_result",
          "data": {
            "text/plain": [
              "(array([2.   , 2.125, 2.25 , 2.375, 2.5  , 2.625, 2.75 , 2.875, 3.   ]), 0.125)"
            ]
          },
          "metadata": {
            "tags": []
          },
          "execution_count": 153
        }
      ]
    },
    {
      "cell_type": "code",
      "metadata": {
        "id": "8CRwZ7E2bh8C",
        "colab_type": "code",
        "colab": {},
        "outputId": "04636b95-67f7-486b-d237-be63ae766276"
      },
      "source": [
        "#Return numbers spaced evenly on a log scale.\n",
        "np.linspace(2.0, 3.0, num=4)"
      ],
      "execution_count": null,
      "outputs": [
        {
          "output_type": "execute_result",
          "data": {
            "text/plain": [
              "array([2.        , 2.33333333, 2.66666667, 3.        ])"
            ]
          },
          "metadata": {
            "tags": []
          },
          "execution_count": 147
        }
      ]
    },
    {
      "cell_type": "code",
      "metadata": {
        "id": "YtGhBkapbh8E",
        "colab_type": "code",
        "colab": {},
        "outputId": "bf896ad4-c529-4d5c-af80-3b7ec9b31f0b"
      },
      "source": [
        "np.logspace(2.0, 3.0, num=4,base = 10)"
      ],
      "execution_count": null,
      "outputs": [
        {
          "output_type": "execute_result",
          "data": {
            "text/plain": [
              "array([ 100.        ,  215.443469  ,  464.15888336, 1000.        ])"
            ]
          },
          "metadata": {
            "tags": []
          },
          "execution_count": 154
        }
      ]
    },
    {
      "cell_type": "code",
      "metadata": {
        "id": "_BhiSK7Kbh8G",
        "colab_type": "code",
        "colab": {},
        "outputId": "509cbb70-11e0-4fae-b357-76d624060ec1"
      },
      "source": [
        "np.logspace(2.0, 3.0, num=4, endpoint=False)"
      ],
      "execution_count": null,
      "outputs": [
        {
          "output_type": "execute_result",
          "data": {
            "text/plain": [
              "array([ 100.        ,  177.827941  ,  316.22776602,  562.34132519])"
            ]
          },
          "metadata": {
            "tags": []
          },
          "execution_count": 113
        }
      ]
    },
    {
      "cell_type": "code",
      "metadata": {
        "id": "iGrcaA9Bbh8J",
        "colab_type": "code",
        "colab": {},
        "outputId": "17f6aa8b-ba2a-4670-a809-288775e65a7d"
      },
      "source": [
        "np.logspace(2.0, 3.0, num=4, base=2.0)"
      ],
      "execution_count": null,
      "outputs": [
        {
          "output_type": "execute_result",
          "data": {
            "text/plain": [
              "array([4.        , 5.0396842 , 6.34960421, 8.        ])"
            ]
          },
          "metadata": {
            "tags": []
          },
          "execution_count": 155
        }
      ]
    },
    {
      "cell_type": "code",
      "metadata": {
        "id": "uEKal0GFbh8L",
        "colab_type": "code",
        "colab": {}
      },
      "source": [
        "#Extract a diagonal or construct a diagonal array."
      ],
      "execution_count": null,
      "outputs": []
    },
    {
      "cell_type": "code",
      "metadata": {
        "id": "Ca3Owo8tbh8M",
        "colab_type": "code",
        "colab": {}
      },
      "source": [
        "x = np.arange(16).reshape((-1,4))"
      ],
      "execution_count": null,
      "outputs": []
    },
    {
      "cell_type": "code",
      "metadata": {
        "id": "ho2XRW90bh8O",
        "colab_type": "code",
        "colab": {},
        "outputId": "93b82eb8-d75a-45bd-8adb-1d62385d9d5f"
      },
      "source": [
        "x"
      ],
      "execution_count": null,
      "outputs": [
        {
          "output_type": "execute_result",
          "data": {
            "text/plain": [
              "array([[ 0,  1,  2,  3],\n",
              "       [ 4,  5,  6,  7],\n",
              "       [ 8,  9, 10, 11],\n",
              "       [12, 13, 14, 15]])"
            ]
          },
          "metadata": {
            "tags": []
          },
          "execution_count": 180
        }
      ]
    },
    {
      "cell_type": "code",
      "metadata": {
        "id": "K5Wq0D3ebh8S",
        "colab_type": "code",
        "colab": {},
        "outputId": "31fea013-131f-4158-9ba2-2ec5fb738c88"
      },
      "source": [
        "np.diag(x)"
      ],
      "execution_count": null,
      "outputs": [
        {
          "output_type": "execute_result",
          "data": {
            "text/plain": [
              "array([ 0,  5, 10, 15])"
            ]
          },
          "metadata": {
            "tags": []
          },
          "execution_count": 172
        }
      ]
    },
    {
      "cell_type": "code",
      "metadata": {
        "id": "kNO4rTD7bh8V",
        "colab_type": "code",
        "colab": {},
        "outputId": "7de2a839-46cd-466b-9f29-6315b10ec5b2"
      },
      "source": [
        "np.diag(x, k=2\n",
        "       )"
      ],
      "execution_count": null,
      "outputs": [
        {
          "output_type": "execute_result",
          "data": {
            "text/plain": [
              "array([2, 7])"
            ]
          },
          "metadata": {
            "tags": []
          },
          "execution_count": 182
        }
      ]
    },
    {
      "cell_type": "code",
      "metadata": {
        "id": "SL0mHBXfbh8Y",
        "colab_type": "code",
        "colab": {},
        "outputId": "87aaa917-f869-4f3b-ae54-ff1c40370571"
      },
      "source": [
        "np.diag(x, k=-1)"
      ],
      "execution_count": null,
      "outputs": [
        {
          "output_type": "execute_result",
          "data": {
            "text/plain": [
              "array([ 4,  9, 14])"
            ]
          },
          "metadata": {
            "tags": []
          },
          "execution_count": 183
        }
      ]
    },
    {
      "cell_type": "code",
      "metadata": {
        "id": "V4NUokP9bh8c",
        "colab_type": "code",
        "colab": {},
        "outputId": "680d0df3-c91a-47b2-90ca-4cb6c12ae31f"
      },
      "source": [
        "np.diag(np.diag(x))"
      ],
      "execution_count": null,
      "outputs": [
        {
          "output_type": "execute_result",
          "data": {
            "text/plain": [
              "array([[ 0,  0,  0,  0],\n",
              "       [ 0,  5,  0,  0],\n",
              "       [ 0,  0, 10,  0],\n",
              "       [ 0,  0,  0, 15]])"
            ]
          },
          "metadata": {
            "tags": []
          },
          "execution_count": 184
        }
      ]
    },
    {
      "cell_type": "code",
      "metadata": {
        "id": "s1ZsEXg0bh8e",
        "colab_type": "code",
        "colab": {}
      },
      "source": [
        "#Create a two-dimensional array with the flattened input as a diagonal."
      ],
      "execution_count": null,
      "outputs": []
    },
    {
      "cell_type": "code",
      "metadata": {
        "id": "bLBItLThbh8g",
        "colab_type": "code",
        "colab": {},
        "outputId": "1ff77dda-706d-4dae-e60c-c11cfedd46dd"
      },
      "source": [
        "np.diagflat([[1,2], [3,4]])"
      ],
      "execution_count": null,
      "outputs": [
        {
          "output_type": "execute_result",
          "data": {
            "text/plain": [
              "array([[1, 0, 0, 0],\n",
              "       [0, 2, 0, 0],\n",
              "       [0, 0, 3, 0],\n",
              "       [0, 0, 0, 4]])"
            ]
          },
          "metadata": {
            "tags": []
          },
          "execution_count": 180
        }
      ]
    },
    {
      "cell_type": "code",
      "metadata": {
        "id": "2P-2lhigbh8h",
        "colab_type": "code",
        "colab": {},
        "outputId": "4d30b62b-3fc6-4e25-ea83-f612970e499c"
      },
      "source": [
        "np.diagflat([1,2], 1)"
      ],
      "execution_count": null,
      "outputs": [
        {
          "output_type": "execute_result",
          "data": {
            "text/plain": [
              "array([[0, 1, 0],\n",
              "       [0, 0, 2],\n",
              "       [0, 0, 0]])"
            ]
          },
          "metadata": {
            "tags": []
          },
          "execution_count": 124
        }
      ]
    },
    {
      "cell_type": "code",
      "metadata": {
        "id": "bgiMsLfjbh8j",
        "colab_type": "code",
        "colab": {}
      },
      "source": [
        "#An array with ones at and below the given diagonal and zeros elsewhere."
      ],
      "execution_count": null,
      "outputs": []
    },
    {
      "cell_type": "code",
      "metadata": {
        "id": "reCu7cj8bh8l",
        "colab_type": "code",
        "colab": {},
        "outputId": "70c5ad7a-c006-45ec-8557-2cdff276ad3f"
      },
      "source": [
        "np.tri(3, 5, 1, dtype=int)"
      ],
      "execution_count": null,
      "outputs": [
        {
          "output_type": "execute_result",
          "data": {
            "text/plain": [
              "array([[1, 1, 0, 0, 0],\n",
              "       [1, 1, 1, 0, 0],\n",
              "       [1, 1, 1, 1, 0]])"
            ]
          },
          "metadata": {
            "tags": []
          },
          "execution_count": 187
        }
      ]
    },
    {
      "cell_type": "code",
      "metadata": {
        "id": "KGzm91hdbh8n",
        "colab_type": "code",
        "colab": {},
        "outputId": "29341f4f-b958-468b-bc25-4c0e74ec0380"
      },
      "source": [
        "np.tri(3, 5,k=-1)"
      ],
      "execution_count": null,
      "outputs": [
        {
          "output_type": "execute_result",
          "data": {
            "text/plain": [
              "array([[0., 0., 0., 0., 0.],\n",
              "       [1., 0., 0., 0., 0.],\n",
              "       [1., 1., 0., 0., 0.]])"
            ]
          },
          "metadata": {
            "tags": []
          },
          "execution_count": 191
        }
      ]
    },
    {
      "cell_type": "code",
      "metadata": {
        "id": "Mj2k4juSbh8o",
        "colab_type": "code",
        "colab": {}
      },
      "source": [
        "#return a Lower triangle of an array."
      ],
      "execution_count": null,
      "outputs": []
    },
    {
      "cell_type": "code",
      "metadata": {
        "id": "eAPUouMBbh8q",
        "colab_type": "code",
        "colab": {},
        "outputId": "7f323c9c-5adb-436d-b183-90b6490f249a"
      },
      "source": [
        "np.tril([[1,2,3],[4,5,6],[7,8,9]], 0)"
      ],
      "execution_count": null,
      "outputs": [
        {
          "output_type": "execute_result",
          "data": {
            "text/plain": [
              "array([[1, 0, 0],\n",
              "       [4, 5, 0],\n",
              "       [7, 8, 9]])"
            ]
          },
          "metadata": {
            "tags": []
          },
          "execution_count": 205
        }
      ]
    },
    {
      "cell_type": "code",
      "metadata": {
        "id": "efy_Mv3Rbh8t",
        "colab_type": "code",
        "colab": {}
      },
      "source": [
        "#return Upper triangle of an array."
      ],
      "execution_count": null,
      "outputs": []
    },
    {
      "cell_type": "code",
      "metadata": {
        "id": "MOeJ2N7Abh8x",
        "colab_type": "code",
        "colab": {},
        "outputId": "0f2e24dc-a11d-4409-bc7b-a3bacaadf1cf"
      },
      "source": [
        "np.triu([[1,2,3],[4,5,6],[7,8,9],[10,11,12]], 1)"
      ],
      "execution_count": null,
      "outputs": [
        {
          "output_type": "execute_result",
          "data": {
            "text/plain": [
              "array([[0, 2, 3],\n",
              "       [0, 0, 6],\n",
              "       [0, 0, 0],\n",
              "       [0, 0, 0]])"
            ]
          },
          "metadata": {
            "tags": []
          },
          "execution_count": 206
        }
      ]
    },
    {
      "cell_type": "markdown",
      "metadata": {
        "id": "4PB-Zqb8bh81",
        "colab_type": "text"
      },
      "source": [
        "# Random number generation"
      ]
    },
    {
      "cell_type": "code",
      "metadata": {
        "id": "67E4pY1sbh82",
        "colab_type": "code",
        "colab": {},
        "outputId": "ad0fdda1-c7dc-45f7-ddf8-9c71f763acf8"
      },
      "source": [
        "print(\"Random number generation (from Uniform distribution)\")\n",
        "print(np.random.rand(2,3)) # 2 by 3 matrix with random numbers ranging from 0 to 1, Note no Tuple is necessary "
      ],
      "execution_count": null,
      "outputs": [
        {
          "output_type": "stream",
          "text": [
            "Random number generation (from Uniform distribution)\n",
            "[[0.79234365 0.26636652 0.84876143]\n",
            " [0.78766627 0.06627396 0.8829639 ]]\n"
          ],
          "name": "stdout"
        }
      ]
    },
    {
      "cell_type": "code",
      "metadata": {
        "id": "6a7A3Ia5bh84",
        "colab_type": "code",
        "colab": {},
        "outputId": "b425687b-0468-44cf-9f76-da34e0ef06f7"
      },
      "source": [
        "print(\"Numbers from Normal distribution with zero mean and standard deviation 1 i.e. standard normal\")\n",
        "print(np.random.randn(4,3))"
      ],
      "execution_count": null,
      "outputs": [
        {
          "output_type": "stream",
          "text": [
            "Numbers from Normal distribution with zero mean and standard deviation 1 i.e. standard normal\n",
            "[[ 0.08550888  0.73651756  0.08329424]\n",
            " [ 0.75179279  0.42441618  0.47752353]\n",
            " [ 0.23835886  1.06582108 -0.01790105]\n",
            " [ 0.48190152 -0.24940656 -0.44992115]]\n"
          ],
          "name": "stdout"
        }
      ]
    },
    {
      "cell_type": "code",
      "metadata": {
        "id": "_XSZIFSybh89",
        "colab_type": "code",
        "colab": {},
        "outputId": "1b30a3d0-de53-4f23-ec07-3f085c8edfe6"
      },
      "source": [
        "print(\"Random integer vector:\",np.random.randint(1,10)) #randint (low, high, # of samples to be drawn)\n",
        "print (\"\\nRandom integer matrix\")\n"
      ],
      "execution_count": null,
      "outputs": [
        {
          "output_type": "stream",
          "text": [
            "Random integer vector: 4\n",
            "\n",
            "Random integer matrix\n"
          ],
          "name": "stdout"
        }
      ]
    },
    {
      "cell_type": "code",
      "metadata": {
        "id": "nXZgPPK3bh8_",
        "colab_type": "code",
        "colab": {},
        "outputId": "f0a798ed-8920-44ad-cb5f-212a48d40bf7"
      },
      "source": [
        "print(np.random.randint(1,100,(4,4))) #randint (low, high, # of samples to be drawn in a tuple to form a matrix)\n",
        "print(\"\\n20 samples drawn from a dice throw:\",np.random.randint(1,7,20)) # 20 samples drawn from a dice throw"
      ],
      "execution_count": null,
      "outputs": [
        {
          "output_type": "stream",
          "text": [
            "[[28 90 28 25]\n",
            " [14 51 32 98]\n",
            " [10 98 11 71]\n",
            " [12 42 54 77]]\n",
            "\n",
            "20 samples drawn from a dice throw: [1 6 2 1 1 1 5 2 5 1 1 5 5 1 6 6 5 4 1 1]\n"
          ],
          "name": "stdout"
        }
      ]
    },
    {
      "cell_type": "markdown",
      "metadata": {
        "id": "TaE1ewnwbh9B",
        "colab_type": "text"
      },
      "source": [
        "# Reshaping"
      ]
    },
    {
      "cell_type": "code",
      "metadata": {
        "id": "GrJWpFwobh9B",
        "colab_type": "code",
        "colab": {},
        "outputId": "b0af50ee-178f-4eb2-8b7a-4e8538564ac6"
      },
      "source": [
        "from numpy.random import randint as ri\n",
        "a = ri(1,100,30)\n",
        "b = a.reshape(2,3,5)\n",
        "c = a.reshape(6,-19878)\n",
        "c"
      ],
      "execution_count": null,
      "outputs": [
        {
          "output_type": "execute_result",
          "data": {
            "text/plain": [
              "array([[51, 63, 51, 54, 96],\n",
              "       [11, 93,  2, 51, 34],\n",
              "       [62, 35, 42, 95, 58],\n",
              "       [88, 44, 36, 93, 83],\n",
              "       [86, 56, 30,  2, 15],\n",
              "       [68, 40, 77, 48, 57]])"
            ]
          },
          "metadata": {
            "tags": []
          },
          "execution_count": 211
        }
      ]
    },
    {
      "cell_type": "code",
      "metadata": {
        "id": "eIc0RB2vbh9D",
        "colab_type": "code",
        "colab": {},
        "outputId": "7fa14e35-f1e1-44db-f8ba-3d6c389515df"
      },
      "source": [
        "print (\"Shape of a:\", a.shape)\n",
        "print (\"Shape of b:\", b.shape)\n",
        "print (\"Shape of c:\", c.shape)\n"
      ],
      "execution_count": null,
      "outputs": [
        {
          "output_type": "stream",
          "text": [
            "Shape of a: (30,)\n",
            "Shape of b: (2, 3, 5)\n",
            "Shape of c: (6, 5)\n"
          ],
          "name": "stdout"
        }
      ]
    },
    {
      "cell_type": "code",
      "metadata": {
        "id": "EuYFF6m4bh9E",
        "colab_type": "code",
        "colab": {},
        "outputId": "c5ccb953-a14b-4da7-f312-094efcd5f94d"
      },
      "source": [
        "print(\"\\na looks like\\n\",'-'*20,\"\\n\",a,\"\\n\",'-'*20)\n",
        "print(\"\\nb looks like\\n\",'-'*20,\"\\n\",b,\"\\n\",'-'*20)\n",
        "print(\"\\nc looks like\\n\",'-'*20,\"\\n\",c,\"\\n\",'-'*20)\n"
      ],
      "execution_count": null,
      "outputs": [
        {
          "output_type": "stream",
          "text": [
            "\n",
            "a looks like\n",
            " -------------------- \n",
            " [72 69 61 67 42  2 92 42 38 56 22 71 21 81 81 47  2  1  6 94 52 14 87 71\n",
            " 38 57 99 87 62 88] \n",
            " --------------------\n",
            "\n",
            "b looks like\n",
            " -------------------- \n",
            " [[[72 69 61 67 42]\n",
            "  [ 2 92 42 38 56]\n",
            "  [22 71 21 81 81]]\n",
            "\n",
            " [[47  2  1  6 94]\n",
            "  [52 14 87 71 38]\n",
            "  [57 99 87 62 88]]] \n",
            " --------------------\n",
            "\n",
            "c looks like\n",
            " -------------------- \n",
            " [[72 69 61 67 42]\n",
            " [ 2 92 42 38 56]\n",
            " [22 71 21 81 81]\n",
            " [47  2  1  6 94]\n",
            " [52 14 87 71 38]\n",
            " [57 99 87 62 88]] \n",
            " --------------------\n"
          ],
          "name": "stdout"
        }
      ]
    },
    {
      "cell_type": "code",
      "metadata": {
        "id": "WBZBYCHsbh9G",
        "colab_type": "code",
        "colab": {},
        "outputId": "7a4b07e4-96b9-4d80-c37b-ad3f613532d1"
      },
      "source": [
        "A = ri(1,100,10) # Vector of random interegrs\n",
        "print(\"\\nVector of random integers\\n\",'-'*50,\"\\n\",A)\n",
        "print(\"\\nHere is the sorted vector\\n\",'-'*50,\"\\n\",np.sort(A))\n"
      ],
      "execution_count": null,
      "outputs": [
        {
          "output_type": "stream",
          "text": [
            "\n",
            "Vector of random integers\n",
            " -------------------------------------------------- \n",
            " [69 99 45 72 41 16 50 80 80 22]\n",
            "\n",
            "Here is the sorted vector\n",
            " -------------------------------------------------- \n",
            " [16 22 41 45 50 69 72 80 80 99]\n"
          ],
          "name": "stdout"
        }
      ]
    },
    {
      "cell_type": "code",
      "metadata": {
        "id": "3pC_tQW8bh9H",
        "colab_type": "code",
        "colab": {},
        "outputId": "b544a1af-2d51-4cc4-97a9-c946d042e64b"
      },
      "source": [
        "M = ri(1,100,25).reshape(5,5) # Matrix of random interegrs\n",
        "#print(\"\\nHere is the sorted matrix along each row\\n\",'-'*50,\"\\n\",np.sort(M, kind='mergesort')) # Default axis =1\n",
        "print(\"\\nHere is the sorted matrix along each column\\n\",'-'*50,\"\\n\",np.sort(M, axis=1, kind='mergesort'))\n",
        "M"
      ],
      "execution_count": null,
      "outputs": [
        {
          "output_type": "stream",
          "text": [
            "\n",
            "Here is the sorted matrix along each column\n",
            " -------------------------------------------------- \n",
            " [[18 25 38 73 94]\n",
            " [18 42 75 79 91]\n",
            " [21 44 62 78 85]\n",
            " [15 17 44 89 91]\n",
            " [ 3 24 38 62 86]]\n"
          ],
          "name": "stdout"
        },
        {
          "output_type": "execute_result",
          "data": {
            "text/plain": [
              "array([[18, 94, 25, 38, 73],\n",
              "       [75, 42, 79, 18, 91],\n",
              "       [21, 44, 85, 78, 62],\n",
              "       [91, 15, 17, 44, 89],\n",
              "       [62, 38,  3, 24, 86]])"
            ]
          },
          "metadata": {
            "tags": []
          },
          "execution_count": 221
        }
      ]
    },
    {
      "cell_type": "code",
      "metadata": {
        "id": "1BgeXc7ubh9J",
        "colab_type": "code",
        "colab": {},
        "outputId": "c426208f-d9bb-4f62-adcb-79ca8577301b"
      },
      "source": [
        "print(\"Max of a:\", M.max())\n",
        "print(\"Max of b:\", b.max())\n",
        "b"
      ],
      "execution_count": null,
      "outputs": [
        {
          "output_type": "stream",
          "text": [
            "Max of a: 99\n",
            "Max of b: 96\n"
          ],
          "name": "stdout"
        },
        {
          "output_type": "execute_result",
          "data": {
            "text/plain": [
              "array([[[51, 63, 51, 54, 96],\n",
              "        [11, 93,  2, 51, 34],\n",
              "        [62, 35, 42, 95, 58]],\n",
              "\n",
              "       [[88, 44, 36, 93, 83],\n",
              "        [86, 56, 30,  2, 15],\n",
              "        [68, 40, 77, 48, 57]]])"
            ]
          },
          "metadata": {
            "tags": []
          },
          "execution_count": 214
        }
      ]
    },
    {
      "cell_type": "code",
      "metadata": {
        "id": "U0Y3CeP5bh9K",
        "colab_type": "code",
        "colab": {},
        "outputId": "65a9ec4a-da19-4311-9d20-4b09d98ecaac"
      },
      "source": [
        "M"
      ],
      "execution_count": null,
      "outputs": [
        {
          "output_type": "execute_result",
          "data": {
            "text/plain": [
              "array([[46, 88, 23, 66, 57],\n",
              "       [50, 90, 30, 46, 36],\n",
              "       [31, 19, 42, 23, 31],\n",
              "       [ 4, 44, 86, 10, 81],\n",
              "       [73, 35, 30, 99, 43]])"
            ]
          },
          "metadata": {
            "tags": []
          },
          "execution_count": 217
        }
      ]
    },
    {
      "cell_type": "code",
      "metadata": {
        "id": "uxOi34rcbh9M",
        "colab_type": "code",
        "colab": {},
        "outputId": "d1faf865-2235-4de6-b63b-a87da5b6a786"
      },
      "source": [
        "print(\"Max of a location:\", M.argmax(axis= 1 ))\n",
        "print(\"Max of b location:\", b.argmax())\n",
        "print(\"Max of c location:\", b.argmax())"
      ],
      "execution_count": null,
      "outputs": [
        {
          "output_type": "stream",
          "text": [
            "Max of a location: [1 1 2 2 3]\n",
            "Max of b location: 4\n",
            "Max of c location: 4\n"
          ],
          "name": "stdout"
        }
      ]
    },
    {
      "cell_type": "markdown",
      "metadata": {
        "id": "_X3IwDJSbh9N",
        "colab_type": "text"
      },
      "source": [
        "# Indexing and slicing"
      ]
    },
    {
      "cell_type": "code",
      "metadata": {
        "id": "__CmtJsZbh9N",
        "colab_type": "code",
        "colab": {},
        "outputId": "6b55b654-4e15-4c15-97a0-a016fd431037"
      },
      "source": [
        "arr = np.arange(0,11)\n",
        "print(\"Array:\",arr)\n"
      ],
      "execution_count": null,
      "outputs": [
        {
          "output_type": "stream",
          "text": [
            "Array: [ 0  1  2  3  4  5  6  7  8  9 10]\n"
          ],
          "name": "stdout"
        }
      ]
    },
    {
      "cell_type": "code",
      "metadata": {
        "id": "ebmeDfy_bh9P",
        "colab_type": "code",
        "colab": {},
        "outputId": "03fa710f-d910-44b9-9d51-fd3c82bcc9e1"
      },
      "source": [
        "print(\"Element at 7th index is:\", arr[7])\n"
      ],
      "execution_count": null,
      "outputs": [
        {
          "output_type": "stream",
          "text": [
            "Element at 7th index is: 7\n"
          ],
          "name": "stdout"
        }
      ]
    },
    {
      "cell_type": "code",
      "metadata": {
        "id": "jZ_ZSuH-bh9R",
        "colab_type": "code",
        "colab": {},
        "outputId": "875443f5-b381-44be-80c0-53a436c224ea"
      },
      "source": [
        "print(\"Elements from 3rd to 5th index are:\", arr[3:6:2])\n"
      ],
      "execution_count": null,
      "outputs": [
        {
          "output_type": "stream",
          "text": [
            "Elements from 3rd to 5th index are: [3 5]\n"
          ],
          "name": "stdout"
        }
      ]
    },
    {
      "cell_type": "code",
      "metadata": {
        "id": "dZB833jAbh9S",
        "colab_type": "code",
        "colab": {},
        "outputId": "98c7a7c0-95fa-4aae-ce69-2b24f0210718"
      },
      "source": [
        "print(\"Elements up to 4th index are:\", arr[:4])\n",
        "arr"
      ],
      "execution_count": null,
      "outputs": [
        {
          "output_type": "stream",
          "text": [
            "Elements up to 4th index are: [0 1 2 3]\n"
          ],
          "name": "stdout"
        },
        {
          "output_type": "execute_result",
          "data": {
            "text/plain": [
              "array([ 0,  1,  2,  3,  4,  5,  6,  7,  8,  9, 10])"
            ]
          },
          "metadata": {
            "tags": []
          },
          "execution_count": 231
        }
      ]
    },
    {
      "cell_type": "code",
      "metadata": {
        "id": "R9tN6uVcbh9T",
        "colab_type": "code",
        "colab": {},
        "outputId": "b9c0188b-9f69-48b2-eee8-d4667f10b1fe"
      },
      "source": [
        "print(\"Elements from last backwards are:\", arr[-1:7:-1])\n"
      ],
      "execution_count": null,
      "outputs": [
        {
          "output_type": "stream",
          "text": [
            "Elements from last backwards are: [10  9  8]\n"
          ],
          "name": "stdout"
        }
      ]
    },
    {
      "cell_type": "code",
      "metadata": {
        "id": "oVwNCAmQbh9Y",
        "colab_type": "code",
        "colab": {},
        "outputId": "82261071-3485-4a40-d16e-60d4e71f5230"
      },
      "source": [
        "print(\"3 Elements from last backwards are:\", arr[-1:-6:2])\n"
      ],
      "execution_count": null,
      "outputs": [
        {
          "output_type": "stream",
          "text": [
            "3 Elements from last backwards are: []\n"
          ],
          "name": "stdout"
        }
      ]
    },
    {
      "cell_type": "code",
      "metadata": {
        "id": "ssemcw6wbh9Z",
        "colab_type": "code",
        "colab": {},
        "outputId": "530e5821-0cf8-453f-8445-b53f4fae421a"
      },
      "source": [
        "arr = np.arange(0,21,2)\n",
        "print(\"New array:\",arr)\n"
      ],
      "execution_count": null,
      "outputs": [
        {
          "output_type": "stream",
          "text": [
            "New array: [ 0  2  4  6  8 10 12 14 16 18 20]\n"
          ],
          "name": "stdout"
        }
      ]
    },
    {
      "cell_type": "code",
      "metadata": {
        "id": "7_rWX1xgbh9c",
        "colab_type": "code",
        "colab": {},
        "outputId": "152acab9-d054-42c0-a7df-7d3835713a95"
      },
      "source": [
        "print(\"Elements at 2nd, 4th, and 9th index are:\", arr[[2,4,9]]) # Pass a list as a index to subset"
      ],
      "execution_count": null,
      "outputs": [
        {
          "output_type": "stream",
          "text": [
            "Elements at 2nd, 4th, and 9th index are: [ 4  8 18]\n"
          ],
          "name": "stdout"
        }
      ]
    },
    {
      "cell_type": "code",
      "metadata": {
        "id": "0F1TwJqQbh9g",
        "colab_type": "code",
        "colab": {},
        "outputId": "e555e2ef-a107-4886-94b0-f0f345eb1fda"
      },
      "source": [
        "import numpy as np \n",
        "mat = np.array(ri(10,100,15)).reshape(3,5)\n",
        "print(\"Matrix of random 2-digit numbers\\n--------------------------------\\n\",mat)\n",
        "mat[1:4,3:5]\n",
        "mat[0:3,[1,3]]"
      ],
      "execution_count": null,
      "outputs": [
        {
          "output_type": "stream",
          "text": [
            "Matrix of random 2-digit numbers\n",
            "--------------------------------\n",
            " [[35 75 44 59 85]\n",
            " [71 58 75 72 69]\n",
            " [76 97 49 63 53]]\n"
          ],
          "name": "stdout"
        },
        {
          "output_type": "execute_result",
          "data": {
            "text/plain": [
              "array([[75, 59],\n",
              "       [58, 72],\n",
              "       [97, 63]])"
            ]
          },
          "metadata": {
            "tags": []
          },
          "execution_count": 237
        }
      ]
    },
    {
      "cell_type": "code",
      "metadata": {
        "id": "8cGPK72Fbh9i",
        "colab_type": "code",
        "colab": {},
        "outputId": "69a2d06b-e7c8-4bc5-a5ba-605606951184"
      },
      "source": [
        "mat[0:3,[1,3]]\n",
        "mat"
      ],
      "execution_count": null,
      "outputs": [
        {
          "output_type": "execute_result",
          "data": {
            "text/plain": [
              "array([[35, 75, 44, 59, 85],\n",
              "       [71, 58, 75, 72, 69],\n",
              "       [76, 97, 49, 63, 53]])"
            ]
          },
          "metadata": {
            "tags": []
          },
          "execution_count": 238
        }
      ]
    },
    {
      "cell_type": "code",
      "metadata": {
        "id": "5w1qrifLbh9l",
        "colab_type": "code",
        "colab": {},
        "outputId": "1a4d294f-8b6d-4de2-e458-ef743a71b1e6"
      },
      "source": [
        "print(\"\\nDouble bracket indexing\\n------------------------\")\n",
        "print(\"Element in row index 1 and column index 2:\", mat[1][1])\n",
        "mat"
      ],
      "execution_count": null,
      "outputs": [
        {
          "output_type": "stream",
          "text": [
            "\n",
            "Double bracket indexing\n",
            "------------------------\n",
            "Element in row index 1 and column index 2: 58\n"
          ],
          "name": "stdout"
        },
        {
          "output_type": "execute_result",
          "data": {
            "text/plain": [
              "array([[35, 75, 44, 59, 85],\n",
              "       [71, 58, 75, 72, 69],\n",
              "       [76, 97, 49, 63, 53]])"
            ]
          },
          "metadata": {
            "tags": []
          },
          "execution_count": 241
        }
      ]
    },
    {
      "cell_type": "code",
      "metadata": {
        "id": "YzDf_d6hbh9n",
        "colab_type": "code",
        "colab": {},
        "outputId": "b5d288b2-84b9-4aa5-c8fd-ecb8632b8c59"
      },
      "source": [
        "print(\"\\nSingle bracket with comma indexing\\n----------------------------------\")\n",
        "print(\"Element in row index 1 and column index 2:\", mat[1,2])\n",
        "print(\"\\nRow or column extract\\n----------------------\")\n"
      ],
      "execution_count": null,
      "outputs": [
        {
          "output_type": "stream",
          "text": [
            "\n",
            "Single bracket with comma indexing\n",
            "----------------------------------\n",
            "Element in row index 1 and column index 2: 75\n",
            "\n",
            "Row or column extract\n",
            "----------------------\n"
          ],
          "name": "stdout"
        }
      ]
    },
    {
      "cell_type": "code",
      "metadata": {
        "id": "kdyRkENbbh9o",
        "colab_type": "code",
        "colab": {},
        "outputId": "b6f5dc3c-2fab-4fb7-9d58-f95b2c206669"
      },
      "source": [
        "print(\"Entire row at index 2:\", mat[2])\n",
        "print(\"Entire column at index 3:\", mat[:,3])\n"
      ],
      "execution_count": null,
      "outputs": [
        {
          "output_type": "stream",
          "text": [
            "Entire row at index 2: [22 10 57 59 61]\n",
            "Entire column at index 3: [92 88 59]\n"
          ],
          "name": "stdout"
        }
      ]
    },
    {
      "cell_type": "code",
      "metadata": {
        "id": "s95MnO98bh9r",
        "colab_type": "code",
        "colab": {},
        "outputId": "a3c2e998-3c86-44b4-b6e2-e50fe3bc8fe2"
      },
      "source": [
        "print(\"\\nSubsetting sub-matrices\\n--------------------------\")\n",
        "print(\"Matrix with row indices 1 and 2 and column indices 3 and 4\\n\", mat[1:3,3:5])\n"
      ],
      "execution_count": null,
      "outputs": [
        {
          "output_type": "stream",
          "text": [
            "\n",
            "Subsetting sub-matrices\n",
            "--------------------------\n",
            "Matrix with row indices 1 and 2 and column indices 3 and 4\n",
            " [[14 32]\n",
            " [62 27]]\n"
          ],
          "name": "stdout"
        }
      ]
    },
    {
      "cell_type": "code",
      "metadata": {
        "id": "kDxxDaM4bh9t",
        "colab_type": "code",
        "colab": {},
        "outputId": "9470f8d7-9e06-4c58-9340-1e819cee3fdc"
      },
      "source": [
        "print(\"Matrix with row indices 0 and 1 and column indices 1 and 3\\n\", mat[0:2,[1,3]])"
      ],
      "execution_count": null,
      "outputs": [
        {
          "output_type": "stream",
          "text": [
            "Matrix with row indices 0 and 1 and column indices 1 and 3\n",
            " [[77 69]\n",
            " [64 17]]\n"
          ],
          "name": "stdout"
        }
      ]
    },
    {
      "cell_type": "markdown",
      "metadata": {
        "id": "wobimAnobh9v",
        "colab_type": "text"
      },
      "source": [
        "# Subseting"
      ]
    },
    {
      "cell_type": "code",
      "metadata": {
        "id": "GvZJcVZybh9v",
        "colab_type": "code",
        "colab": {},
        "outputId": "0d0fb0b1-053f-4895-ec52-007f382f9cdb"
      },
      "source": [
        "mat = np.array(ri(10,100,15)).reshape(3,5)\n",
        "print(\"Matrix of random 2-digit numbers\\n--------------------------------\\n\",mat)\n",
        "mat>50"
      ],
      "execution_count": null,
      "outputs": [
        {
          "output_type": "stream",
          "text": [
            "Matrix of random 2-digit numbers\n",
            "--------------------------------\n",
            " [[51 99 67 32 43]\n",
            " [53 61 80 97 51]\n",
            " [82 76 18 26 11]]\n"
          ],
          "name": "stdout"
        },
        {
          "output_type": "execute_result",
          "data": {
            "text/plain": [
              "array([[ True,  True,  True, False, False],\n",
              "       [ True,  True,  True,  True,  True],\n",
              "       [ True,  True, False, False, False]])"
            ]
          },
          "metadata": {
            "tags": []
          },
          "execution_count": 173
        }
      ]
    },
    {
      "cell_type": "code",
      "metadata": {
        "id": "_N83pw2Rbh9x",
        "colab_type": "code",
        "colab": {},
        "outputId": "6064882e-088f-419f-ca27-24551a71cb6f"
      },
      "source": [
        "print (\"Elements greater than 50\\n\", mat[mat>50])"
      ],
      "execution_count": null,
      "outputs": [
        {
          "output_type": "stream",
          "text": [
            "Elements greater than 50\n",
            " [51 99 67 53 61 80 97 51 82 76]\n"
          ],
          "name": "stdout"
        }
      ]
    },
    {
      "cell_type": "markdown",
      "metadata": {
        "id": "R-fhXFKIbh9y",
        "colab_type": "text"
      },
      "source": [
        "# Slicing"
      ]
    },
    {
      "cell_type": "code",
      "metadata": {
        "id": "bFMc4v7Qbh9y",
        "colab_type": "code",
        "colab": {},
        "outputId": "4293735f-04c0-4751-eb2f-76e5d71479a8"
      },
      "source": [
        "mat = np.array([[11,12,13],[21,22,23],[31,32,33]])\n",
        "print(\"Original matrix\")\n",
        "print(mat)\n"
      ],
      "execution_count": null,
      "outputs": [
        {
          "output_type": "stream",
          "text": [
            "Original matrix\n",
            "[[11 12 13]\n",
            " [21 22 23]\n",
            " [31 32 33]]\n"
          ],
          "name": "stdout"
        }
      ]
    },
    {
      "cell_type": "code",
      "metadata": {
        "id": "IF_z29q6bh90",
        "colab_type": "code",
        "colab": {},
        "outputId": "16d1de3e-19db-494d-83f5-58db13f43175"
      },
      "source": [
        "mat_slice = mat[:2,:2]\n",
        "print (\"\\nSliced matrix\")\n",
        "print(mat_slice)\n",
        "print (\"\\nChange the sliced matrix\")"
      ],
      "execution_count": null,
      "outputs": [
        {
          "output_type": "stream",
          "text": [
            "\n",
            "Sliced matrix\n",
            "[[11 12]\n",
            " [21 22]]\n",
            "\n",
            "Change the sliced matrix\n"
          ],
          "name": "stdout"
        }
      ]
    },
    {
      "cell_type": "code",
      "metadata": {
        "id": "hUbeP1icbh91",
        "colab_type": "code",
        "colab": {},
        "outputId": "9a32d3c7-4f91-4a21-c192-eee67f85580c"
      },
      "source": [
        "mat_slice[0,0] = 1000\n",
        "print (mat_slice)"
      ],
      "execution_count": null,
      "outputs": [
        {
          "output_type": "stream",
          "text": [
            "[[1000   12]\n",
            " [  21   22]]\n"
          ],
          "name": "stdout"
        }
      ]
    },
    {
      "cell_type": "code",
      "metadata": {
        "id": "j-FyKJHWbh93",
        "colab_type": "code",
        "colab": {},
        "outputId": "29a9ceeb-89e6-4649-a51f-b28a46deb377"
      },
      "source": [
        "print(\"\\nBut the original matrix? WHOA! It got changed too!\")\n",
        "print(mat)\n"
      ],
      "execution_count": null,
      "outputs": [
        {
          "output_type": "stream",
          "text": [
            "\n",
            "But the original matrix? WHOA! It got changed too!\n",
            "[[11 12 13]\n",
            " [21 22 23]\n",
            " [31 32 33]]\n"
          ],
          "name": "stdout"
        }
      ]
    },
    {
      "cell_type": "code",
      "metadata": {
        "id": "esB_GQqGbh95",
        "colab_type": "code",
        "colab": {},
        "outputId": "fe6eab70-a923-4b53-ac12-7d33f407085d"
      },
      "source": [
        "# Little different way to create a copy of the slixed matrix\n",
        "print (\"\\nDoing it again little differently now...\\n\")\n",
        "mat = np.array([[11,12,13],[21,22,23],[31,32,33]])\n",
        "print(\"Original matrix\")\n",
        "print(mat)\n"
      ],
      "execution_count": null,
      "outputs": [
        {
          "output_type": "stream",
          "text": [
            "\n",
            "Doing it again little differently now...\n",
            "\n",
            "Original matrix\n",
            "[[11 12 13]\n",
            " [21 22 23]\n",
            " [31 32 33]]\n"
          ],
          "name": "stdout"
        }
      ]
    },
    {
      "cell_type": "code",
      "metadata": {
        "id": "xBXcpyvjbh96",
        "colab_type": "code",
        "colab": {},
        "outputId": "1789273f-5e91-4368-ba14-3a9c642c27b5"
      },
      "source": [
        "mat_slice = np.array(mat[:2,:2]) # Notice the np.array command to create a new array not just slicing\n",
        "print (\"\\nSliced matrix\")\n",
        "print(mat_slice)\n"
      ],
      "execution_count": null,
      "outputs": [
        {
          "output_type": "stream",
          "text": [
            "\n",
            "Sliced matrix\n",
            "[[11 12]\n",
            " [21 22]]\n"
          ],
          "name": "stdout"
        }
      ]
    },
    {
      "cell_type": "code",
      "metadata": {
        "id": "6jxoVdoabh97",
        "colab_type": "code",
        "colab": {},
        "outputId": "2feec496-2e12-44b0-e62f-2f521aea6090"
      },
      "source": [
        "print (\"\\nChange the sliced matrix\")\n",
        "mat_slice[0,0] = 1000\n",
        "print (mat_slice)\n"
      ],
      "execution_count": null,
      "outputs": [
        {
          "output_type": "stream",
          "text": [
            "\n",
            "Change the sliced matrix\n",
            "[[1000   12]\n",
            " [  21   22]]\n"
          ],
          "name": "stdout"
        }
      ]
    },
    {
      "cell_type": "code",
      "metadata": {
        "id": "RskPegbrbh9-",
        "colab_type": "code",
        "colab": {},
        "outputId": "f322647f-8c49-4568-a9e3-c7a4e51a0ab3"
      },
      "source": [
        "print(\"\\nBut the original matrix? NO CHANGE this time:)\")\n",
        "print(mat)"
      ],
      "execution_count": null,
      "outputs": [
        {
          "output_type": "stream",
          "text": [
            "\n",
            "But the original matrix? NO CHANGE this time:)\n",
            "[[11 12 13]\n",
            " [21 22 23]\n",
            " [31 32 33]]\n"
          ],
          "name": "stdout"
        }
      ]
    },
    {
      "cell_type": "markdown",
      "metadata": {
        "id": "7AjK2jv7bh-A",
        "colab_type": "text"
      },
      "source": [
        "# Universal Functions"
      ]
    },
    {
      "cell_type": "code",
      "metadata": {
        "id": "lxLD9iAmbh-A",
        "colab_type": "code",
        "colab": {},
        "outputId": "a1c7d567-e96e-49f4-8905-ad954bb2d5cd"
      },
      "source": [
        "mat1 = np.array(ri(1,10,9)).reshape(3,3)\n",
        "mat2 = np.array(ri(1,10,9)).reshape(3,3)\n",
        "print(\"\\n1st Matrix of random single-digit numbers\\n----------------------------------------\\n\",mat1)\n",
        "print(\"\\n2nd Matrix of random single-digit numbers\\n----------------------------------------\\n\",mat2)\n"
      ],
      "execution_count": null,
      "outputs": [
        {
          "output_type": "stream",
          "text": [
            "\n",
            "1st Matrix of random single-digit numbers\n",
            "----------------------------------------\n",
            " [[3 3 9]\n",
            " [6 1 8]\n",
            " [5 9 1]]\n",
            "\n",
            "2nd Matrix of random single-digit numbers\n",
            "----------------------------------------\n",
            " [[3 5 7]\n",
            " [4 4 9]\n",
            " [1 2 5]]\n"
          ],
          "name": "stdout"
        }
      ]
    },
    {
      "cell_type": "code",
      "metadata": {
        "id": "vvDEQnVbbh-C",
        "colab_type": "code",
        "colab": {},
        "outputId": "6c430540-c73c-41ed-ceb1-e7205e3d7b23"
      },
      "source": [
        "mat1*mat2"
      ],
      "execution_count": null,
      "outputs": [
        {
          "output_type": "execute_result",
          "data": {
            "text/plain": [
              "array([[ 9, 15, 63],\n",
              "       [24,  4, 72],\n",
              "       [ 5, 18,  5]])"
            ]
          },
          "metadata": {
            "tags": []
          },
          "execution_count": 248
        }
      ]
    },
    {
      "cell_type": "code",
      "metadata": {
        "id": "y-bDjkTbbh-D",
        "colab_type": "code",
        "colab": {}
      },
      "source": [
        ""
      ],
      "execution_count": null,
      "outputs": []
    },
    {
      "cell_type": "code",
      "metadata": {
        "id": "TCYSgwqjbh-G",
        "colab_type": "code",
        "colab": {},
        "outputId": "443f3c39-5206-4540-8436-c90c69ce6200"
      },
      "source": [
        "#print(\"\\nAddition\\n------------------\\n\", mat1+mat2)\n",
        "print(\"\\nMultiplication\\n------------------\\n\", mat1@mat2)\n"
      ],
      "execution_count": null,
      "outputs": [
        {
          "output_type": "stream",
          "text": [
            "\n",
            "Multiplication\n",
            "------------------\n",
            " [[ 30  45  93]\n",
            " [ 30  50  91]\n",
            " [ 52  63 121]]\n"
          ],
          "name": "stdout"
        }
      ]
    },
    {
      "cell_type": "code",
      "metadata": {
        "id": "JLNSx0uYbh-H",
        "colab_type": "code",
        "colab": {},
        "outputId": "106aa68b-6bb1-4eba-9605-a7189f319c00"
      },
      "source": [
        "print(\"\\nDivision\\n------------------\\n\", mat1/0)\n",
        "#print(\"\\nLineaer combination: 3*A - 2*B\\n-----------------------------\\n\", 3*mat1-2*mat2)\n"
      ],
      "execution_count": null,
      "outputs": [
        {
          "output_type": "stream",
          "text": [
            "\n",
            "Division\n",
            "------------------\n",
            " [[inf inf inf]\n",
            " [inf inf inf]\n",
            " [inf inf inf]]\n"
          ],
          "name": "stdout"
        },
        {
          "output_type": "stream",
          "text": [
            "/Users/sudhanshukumar/anaconda3/lib/python3.7/site-packages/ipykernel_launcher.py:1: RuntimeWarning: divide by zero encountered in true_divide\n",
            "  \"\"\"Entry point for launching an IPython kernel.\n"
          ],
          "name": "stderr"
        }
      ]
    },
    {
      "cell_type": "code",
      "metadata": {
        "id": "7fS7zQeUbh-I",
        "colab_type": "code",
        "colab": {},
        "outputId": "10e612a0-db02-4c35-a99a-07bf4f4c9d6a"
      },
      "source": [
        "print(\"\\nAddition of a scalar (100)\\n-------------------------\\n\", 100+mat1)\n"
      ],
      "execution_count": null,
      "outputs": [
        {
          "output_type": "stream",
          "text": [
            "\n",
            "Addition of a scalar (100)\n",
            "-------------------------\n",
            " [[103 103 109]\n",
            " [106 101 108]\n",
            " [105 109 101]]\n"
          ],
          "name": "stdout"
        }
      ]
    },
    {
      "cell_type": "code",
      "metadata": {
        "id": "uzEKwQn3bh-J",
        "colab_type": "code",
        "colab": {},
        "outputId": "3ddf95c1-115a-4ec8-bf33-e03dd0de977e"
      },
      "source": [
        "print(\"\\nExponentiation, matrix cubed here\\n----------------------------------------\\n\", mat1**3)\n",
        "print(\"\\nExponentiation, sq-root using pow function\\n-------------------------------------------\\n\",pow(mat1,3))"
      ],
      "execution_count": null,
      "outputs": [
        {
          "output_type": "stream",
          "text": [
            "\n",
            "Exponentiation, matrix cubed here\n",
            "----------------------------------------\n",
            " [[ 27  27 729]\n",
            " [216   1 512]\n",
            " [125 729   1]]\n",
            "\n",
            "Exponentiation, sq-root using pow function\n",
            "-------------------------------------------\n",
            " [[ 27  27 729]\n",
            " [216   1 512]\n",
            " [125 729   1]]\n"
          ],
          "name": "stdout"
        }
      ]
    },
    {
      "cell_type": "markdown",
      "metadata": {
        "id": "PDpTOuRsbh-K",
        "colab_type": "text"
      },
      "source": [
        "# Broadcasting"
      ]
    },
    {
      "cell_type": "code",
      "metadata": {
        "collapsed": true,
        "id": "NUaAzRtobh-K",
        "colab_type": "code",
        "colab": {}
      },
      "source": [
        "#NumPy operations are usually done on pairs of arrays on an element-by-element basis. \n",
        "#In the simplest case, the two arrays must have exactly the same shape.\n",
        "#NumPy’s broadcasting rule relaxes this constraint when the arrays’ shapes meet certain constraints. \n",
        "#When operating on two arrays, NumPy compares their shapes element-wise. It starts with the trailing \n",
        "#dimensions, and works its way forward. Two dimensions are compatible when\n",
        "#they are equal, or one of them is 1"
      ],
      "execution_count": null,
      "outputs": []
    },
    {
      "cell_type": "code",
      "metadata": {
        "id": "S0Prafbibh-M",
        "colab_type": "code",
        "colab": {},
        "outputId": "20414dee-1628-4b45-bfeb-dd1781cd2c86"
      },
      "source": [
        "start = np.zeros((4,4))\n",
        "start= start+100\n",
        "start"
      ],
      "execution_count": null,
      "outputs": [
        {
          "output_type": "execute_result",
          "data": {
            "text/plain": [
              "array([[100., 100., 100., 100.],\n",
              "       [100., 100., 100., 100.],\n",
              "       [100., 100., 100., 100.],\n",
              "       [100., 100., 100., 100.]])"
            ]
          },
          "metadata": {
            "tags": []
          },
          "execution_count": 254
        }
      ]
    },
    {
      "cell_type": "code",
      "metadata": {
        "id": "LAXbrNsZbh-N",
        "colab_type": "code",
        "colab": {},
        "outputId": "71f192ec-731b-4944-ac97-7568744807f5"
      },
      "source": [
        "# create a rank 1 ndarray with 3 values\n",
        "add_rows = np.array([1, 0, 2,5])\n",
        "print(add_rows)"
      ],
      "execution_count": null,
      "outputs": [
        {
          "output_type": "stream",
          "text": [
            "[1 0 2 5]\n"
          ],
          "name": "stdout"
        }
      ]
    },
    {
      "cell_type": "code",
      "metadata": {
        "id": "wKfwz2wLbh-P",
        "colab_type": "code",
        "colab": {},
        "outputId": "c37658d1-5d5f-45fc-a08a-f9b0cc50e74d"
      },
      "source": [
        "y = start + add_rows  # add to each row of 'start' using broadcasting\n",
        "print(y)"
      ],
      "execution_count": null,
      "outputs": [
        {
          "output_type": "stream",
          "text": [
            "[[101. 100. 102. 105.]\n",
            " [101. 100. 102. 105.]\n",
            " [101. 100. 102. 105.]\n",
            " [101. 100. 102. 105.]]\n"
          ],
          "name": "stdout"
        }
      ]
    },
    {
      "cell_type": "code",
      "metadata": {
        "id": "MIztKpQubh-Q",
        "colab_type": "code",
        "colab": {},
        "outputId": "987e6c61-2f90-422c-a31b-30ccf615ef28"
      },
      "source": [
        "# create an ndarray which is 4 x 1 to broadcast across columns\n",
        "add_cols = np.array([[0,1,2,3]])\n",
        "add_cols = add_cols.T\n",
        "print(add_cols)"
      ],
      "execution_count": null,
      "outputs": [
        {
          "output_type": "stream",
          "text": [
            "[[0]\n",
            " [1]\n",
            " [2]\n",
            " [3]]\n"
          ],
          "name": "stdout"
        }
      ]
    },
    {
      "cell_type": "code",
      "metadata": {
        "id": "OxsCTFg8bh-R",
        "colab_type": "code",
        "colab": {},
        "outputId": "3df9d4c4-0ec0-43a2-a136-adf644cf1c0f"
      },
      "source": [
        "# add to each column of 'start' using broadcasting\n",
        "y = start + add_cols \n",
        "print(y)"
      ],
      "execution_count": null,
      "outputs": [
        {
          "output_type": "stream",
          "text": [
            "[[100. 100. 100. 100.]\n",
            " [101. 101. 101. 101.]\n",
            " [102. 102. 102. 102.]\n",
            " [103. 103. 103. 103.]]\n"
          ],
          "name": "stdout"
        }
      ]
    },
    {
      "cell_type": "code",
      "metadata": {
        "id": "OyCPWsLebh-S",
        "colab_type": "code",
        "colab": {},
        "outputId": "3c88ec88-4120-49a7-db10-d4ba0ea1f3a9"
      },
      "source": [
        "# this will just broadcast in both dimensions\n",
        "add_scalar = np.array([100])  \n",
        "print(start+y)"
      ],
      "execution_count": null,
      "outputs": [
        {
          "output_type": "stream",
          "text": [
            "[[200. 200. 200. 200.]\n",
            " [201. 201. 201. 201.]\n",
            " [202. 202. 202. 202.]\n",
            " [203. 203. 203. 203.]]\n"
          ],
          "name": "stdout"
        }
      ]
    },
    {
      "cell_type": "markdown",
      "metadata": {
        "id": "EsaH-FKnbh-U",
        "colab_type": "text"
      },
      "source": [
        "# Array Math"
      ]
    },
    {
      "cell_type": "code",
      "metadata": {
        "id": "RaRRWTnLbh-U",
        "colab_type": "code",
        "colab": {},
        "outputId": "ff20cf6a-0f29-4efb-c5e3-0748db9306b3"
      },
      "source": [
        "mat1 = np.array(ri(1,10,9)).reshape(3,3)\n",
        "mat2 = np.array(ri(1,10,9)).reshape(3,3)\n",
        "print(\"\\n1st Matrix of random single-digit numbers\\n\\n\",mat1)\n",
        "print(\"\\n2nd Matrix of random single-digit numbers\\n------------\\n\",mat2)\n"
      ],
      "execution_count": null,
      "outputs": [
        {
          "output_type": "stream",
          "text": [
            "\n",
            "1st Matrix of random single-digit numbers\n",
            "\n",
            " [[9 5 4]\n",
            " [1 7 3]\n",
            " [8 3 5]]\n",
            "\n",
            "2nd Matrix of random single-digit numbers\n",
            "------------\n",
            " [[4 8 6]\n",
            " [7 6 8]\n",
            " [4 6 5]]\n"
          ],
          "name": "stdout"
        }
      ]
    },
    {
      "cell_type": "code",
      "metadata": {
        "id": "jL5Hmr3-bh-V",
        "colab_type": "code",
        "colab": {},
        "outputId": "65d5ce5c-363d-4c9d-fd43-67ba4f57a2ba"
      },
      "source": [
        "print(\"\\nSq-root of 1st matrix using np\\n------------------\\n\", np.sqrt(mat1))\n"
      ],
      "execution_count": null,
      "outputs": [
        {
          "output_type": "stream",
          "text": [
            "\n",
            "Sq-root of 1st matrix using np\n",
            "------------------\n",
            " [[3.         2.23606798 2.        ]\n",
            " [1.         2.64575131 1.73205081]\n",
            " [2.82842712 1.73205081 2.23606798]]\n"
          ],
          "name": "stdout"
        }
      ]
    },
    {
      "cell_type": "code",
      "metadata": {
        "id": "Fu8BcCpfbh-W",
        "colab_type": "code",
        "colab": {},
        "outputId": "64c55ad5-0b66-4cf2-b776-15f2bc6dc390"
      },
      "source": [
        "print(\"\\nExponential power of 1st matrix using np\\n\",'-'*50,\"\\n\", np.exp(mat1))\n"
      ],
      "execution_count": null,
      "outputs": [
        {
          "output_type": "stream",
          "text": [
            "\n",
            "Exponential power of 1st matrix using np\n",
            " -------------------------------------------------- \n",
            " [[8.10308393e+03 1.48413159e+02 5.45981500e+01]\n",
            " [2.71828183e+00 1.09663316e+03 2.00855369e+01]\n",
            " [2.98095799e+03 2.00855369e+01 1.48413159e+02]]\n"
          ],
          "name": "stdout"
        }
      ]
    },
    {
      "cell_type": "code",
      "metadata": {
        "id": "0pwboUPcbh-Y",
        "colab_type": "code",
        "colab": {},
        "outputId": "223e4b03-c5c2-4ebe-d594-fb52f6c01a7c"
      },
      "source": [
        "print(\"\\n10-base logarithm on 1st matrix using np\\n\",'-'*50,\"\\n\", np.log10(mat1))\n",
        "print(mat1)\n",
        "print(mat2)"
      ],
      "execution_count": null,
      "outputs": [
        {
          "output_type": "stream",
          "text": [
            "\n",
            "10-base logarithm on 1st matrix using np\n",
            " -------------------------------------------------- \n",
            " [[0.95424251 0.69897    0.60205999]\n",
            " [0.         0.84509804 0.47712125]\n",
            " [0.90308999 0.47712125 0.69897   ]]\n",
            "[[9 5 4]\n",
            " [1 7 3]\n",
            " [8 3 5]]\n",
            "[[4 8 6]\n",
            " [7 6 8]\n",
            " [4 6 5]]\n"
          ],
          "name": "stdout"
        }
      ]
    },
    {
      "cell_type": "code",
      "metadata": {
        "id": "hMxfhsEgbh-Z",
        "colab_type": "code",
        "colab": {},
        "outputId": "ed5c539d-c075-49a6-f554-58a7d9e215d8"
      },
      "source": [
        "print(\"\\nModulo reminder using np\\n\",'-'*50,\"\\n\", np.fmod(mat1,mat2))\n",
        "mat1%mat2"
      ],
      "execution_count": null,
      "outputs": [
        {
          "output_type": "stream",
          "text": [
            "\n",
            "Modulo reminder using np\n",
            " -------------------------------------------------- \n",
            " [[1 5 4]\n",
            " [1 1 3]\n",
            " [0 3 0]]\n"
          ],
          "name": "stdout"
        },
        {
          "output_type": "execute_result",
          "data": {
            "text/plain": [
              "array([[1, 5, 4],\n",
              "       [1, 1, 3],\n",
              "       [0, 3, 0]])"
            ]
          },
          "metadata": {
            "tags": []
          },
          "execution_count": 270
        }
      ]
    },
    {
      "cell_type": "code",
      "metadata": {
        "id": "BhO8v9Gibh-a",
        "colab_type": "code",
        "colab": {},
        "outputId": "c976a38a-db2c-41da-d022-699a10b60ae8"
      },
      "source": [
        "print(\"\\nCombination of functions by shwoing exponetial decay of a sine wave\\n\",'-'*70)\n"
      ],
      "execution_count": null,
      "outputs": [
        {
          "output_type": "stream",
          "text": [
            "\n",
            "Combination of functions by shwoing exponetial decay of a sine wave\n",
            " ----------------------------------------------------------------------\n"
          ],
          "name": "stdout"
        }
      ]
    },
    {
      "cell_type": "code",
      "metadata": {
        "id": "bJJ-WlnFbh-c",
        "colab_type": "code",
        "colab": {}
      },
      "source": [
        "A = np.linspace(0,12*np.pi,1001)\n"
      ],
      "execution_count": null,
      "outputs": []
    },
    {
      "cell_type": "code",
      "metadata": {
        "id": "E1o1d7Ykbh-d",
        "colab_type": "code",
        "colab": {},
        "outputId": "d1954940-324f-49fc-c020-aee02cf722a7"
      },
      "source": [
        "A"
      ],
      "execution_count": null,
      "outputs": [
        {
          "output_type": "execute_result",
          "data": {
            "text/plain": [
              "array([ 0.        ,  0.03769911,  0.07539822, ..., 37.62371362,\n",
              "       37.66141273, 37.69911184])"
            ]
          },
          "metadata": {
            "tags": []
          },
          "execution_count": 208
        }
      ]
    },
    {
      "cell_type": "code",
      "metadata": {
        "id": "0_bYCw2jbh-f",
        "colab_type": "code",
        "colab": {}
      },
      "source": [
        ""
      ],
      "execution_count": null,
      "outputs": []
    }
  ]
}